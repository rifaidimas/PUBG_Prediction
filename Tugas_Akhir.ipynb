{
  "cells": [
    {
      "cell_type": "code",
      "execution_count": null,
      "metadata": {
        "id": "KksU1gd1HZIC"
      },
      "outputs": [],
      "source": [
        "import pandas as pd\n",
        "import numpy as np\n",
        "import matplotlib.pyplot as plt\n",
        "import seaborn as sns\n",
        "from sklearn.preprocessing import LabelEncoder\n",
        "from sklearn.model_selection import RandomizedSearchCV \n",
        "from sklearn.model_selection import train_test_split\n",
        "from sklearn.metrics import r2_score, mean_squared_error\n",
        "from sklearn.tree import DecisionTreeRegressor\n",
        "from xgboost import XGBRFRegressor\n",
        "from sklearn.ensemble import RandomForestRegressor\n",
        "from sklearn.neighbors import KNeighborsRegressor\n",
        "\n",
        "import pickle\n",
        "\n",
        "%matplotlib inline\n"
      ]
    },
    {
      "cell_type": "code",
      "execution_count": null,
      "metadata": {
        "colab": {
          "base_uri": "https://localhost:8080/",
          "height": 661
        },
        "id": "Aw-z92FfHeG3",
        "outputId": "32b7aecb-0f45-4caf-87a8-3473711ea726"
      },
      "outputs": [
        {
          "output_type": "execute_result",
          "data": {
            "text/plain": [
              "               Name            Team  Match  WWCD  Elims  Placement  \\\n",
              "0          NGX.LORD    Nigma Galaxy      5     0     17         37   \n",
              "1           NVOrder    Nova Esports      5     1     10         36   \n",
              "2         NGX.FREAK    Nigma Galaxy      5     0      7         37   \n",
              "3      NVParaboyyy6    Nova Esports      5     1      7         36   \n",
              "4       NVJimmyyyyy    Nova Esports      5     1      6         36   \n",
              "...             ...             ...    ...   ...    ...        ...   \n",
              "21546       RSG Luk             RSG      2     0      0          6   \n",
              "21547      MJ Romeo  Marjin Esports      3     0      1          3   \n",
              "21548   T2i Ferrari  Talent Esports      5     0      1          3   \n",
              "21549     HB Six666        Homebois      2     0      0          2   \n",
              "21550      FaZe MR5       FaZe Clan      1     0      0          1   \n",
              "\n",
              "       Survive_Time  Max_elim_range  In_Damage  Heal  Headshot  \\\n",
              "0              6817             118       1020   790         5   \n",
              "1              5848             221       1031   353         4   \n",
              "2              7091             174       1308  1086         1   \n",
              "3              5987              69       1579   754         1   \n",
              "4              6029               0        928   400         1   \n",
              "...             ...             ...        ...   ...       ...   \n",
              "21546          1767               0        357    60         0   \n",
              "21547          3536               0        313  1519         0   \n",
              "21548          3089               0        700   149         0   \n",
              "21549          1841               0        306   254         0   \n",
              "21550          1099               0        235   135         0   \n",
              "\n",
              "       Drive_distance  Death  Damage  Assist  Air_drop  Moving_distance  \\\n",
              "0               29154      5    2531       1         0            41193   \n",
              "1               12061      5    1395       6         3            24898   \n",
              "2               26932      5    1047       3         0            39540   \n",
              "3               15950      5    2047       7         0            26788   \n",
              "4               18666      4    1181       3         0            30110   \n",
              "...               ...    ...     ...     ...       ...              ...   \n",
              "21546            9705      2      91       0         0            13515   \n",
              "21547           11684      3     445       2         0            20108   \n",
              "21548            7108      5     446       2         0            13953   \n",
              "21549            7514      2     224       0         0            11760   \n",
              "21550           11636      1       0       0         0            12957   \n",
              "\n",
              "           Region        Week  Day  \n",
              "0        PMGC East  Weekday 1  one  \n",
              "1        PMGC East  Weekday 1  one  \n",
              "2        PMGC East  Weekday 1  one  \n",
              "3        PMGC East  Weekday 1  one  \n",
              "4        PMGC East  Weekday 1  one  \n",
              "...            ...        ...  ...  \n",
              "21546  Sea Play-in      Final  one  \n",
              "21547  Sea Play-in      Final  one  \n",
              "21548  Sea Play-in      Final  one  \n",
              "21549  Sea Play-in      Final  one  \n",
              "21550  Sea Play-in      Final  one  \n",
              "\n",
              "[21551 rows x 20 columns]"
            ],
            "text/html": [
              "\n",
              "  <div id=\"df-26ec6caf-08da-4235-a48a-562a95442688\">\n",
              "    <div class=\"colab-df-container\">\n",
              "      <div>\n",
              "<style scoped>\n",
              "    .dataframe tbody tr th:only-of-type {\n",
              "        vertical-align: middle;\n",
              "    }\n",
              "\n",
              "    .dataframe tbody tr th {\n",
              "        vertical-align: top;\n",
              "    }\n",
              "\n",
              "    .dataframe thead th {\n",
              "        text-align: right;\n",
              "    }\n",
              "</style>\n",
              "<table border=\"1\" class=\"dataframe\">\n",
              "  <thead>\n",
              "    <tr style=\"text-align: right;\">\n",
              "      <th></th>\n",
              "      <th>Name</th>\n",
              "      <th>Team</th>\n",
              "      <th>Match</th>\n",
              "      <th>WWCD</th>\n",
              "      <th>Elims</th>\n",
              "      <th>Placement</th>\n",
              "      <th>Survive_Time</th>\n",
              "      <th>Max_elim_range</th>\n",
              "      <th>In_Damage</th>\n",
              "      <th>Heal</th>\n",
              "      <th>Headshot</th>\n",
              "      <th>Drive_distance</th>\n",
              "      <th>Death</th>\n",
              "      <th>Damage</th>\n",
              "      <th>Assist</th>\n",
              "      <th>Air_drop</th>\n",
              "      <th>Moving_distance</th>\n",
              "      <th>Region</th>\n",
              "      <th>Week</th>\n",
              "      <th>Day</th>\n",
              "    </tr>\n",
              "  </thead>\n",
              "  <tbody>\n",
              "    <tr>\n",
              "      <th>0</th>\n",
              "      <td>NGX.LORD</td>\n",
              "      <td>Nigma Galaxy</td>\n",
              "      <td>5</td>\n",
              "      <td>0</td>\n",
              "      <td>17</td>\n",
              "      <td>37</td>\n",
              "      <td>6817</td>\n",
              "      <td>118</td>\n",
              "      <td>1020</td>\n",
              "      <td>790</td>\n",
              "      <td>5</td>\n",
              "      <td>29154</td>\n",
              "      <td>5</td>\n",
              "      <td>2531</td>\n",
              "      <td>1</td>\n",
              "      <td>0</td>\n",
              "      <td>41193</td>\n",
              "      <td>PMGC East</td>\n",
              "      <td>Weekday 1</td>\n",
              "      <td>one</td>\n",
              "    </tr>\n",
              "    <tr>\n",
              "      <th>1</th>\n",
              "      <td>NVOrder</td>\n",
              "      <td>Nova Esports</td>\n",
              "      <td>5</td>\n",
              "      <td>1</td>\n",
              "      <td>10</td>\n",
              "      <td>36</td>\n",
              "      <td>5848</td>\n",
              "      <td>221</td>\n",
              "      <td>1031</td>\n",
              "      <td>353</td>\n",
              "      <td>4</td>\n",
              "      <td>12061</td>\n",
              "      <td>5</td>\n",
              "      <td>1395</td>\n",
              "      <td>6</td>\n",
              "      <td>3</td>\n",
              "      <td>24898</td>\n",
              "      <td>PMGC East</td>\n",
              "      <td>Weekday 1</td>\n",
              "      <td>one</td>\n",
              "    </tr>\n",
              "    <tr>\n",
              "      <th>2</th>\n",
              "      <td>NGX.FREAK</td>\n",
              "      <td>Nigma Galaxy</td>\n",
              "      <td>5</td>\n",
              "      <td>0</td>\n",
              "      <td>7</td>\n",
              "      <td>37</td>\n",
              "      <td>7091</td>\n",
              "      <td>174</td>\n",
              "      <td>1308</td>\n",
              "      <td>1086</td>\n",
              "      <td>1</td>\n",
              "      <td>26932</td>\n",
              "      <td>5</td>\n",
              "      <td>1047</td>\n",
              "      <td>3</td>\n",
              "      <td>0</td>\n",
              "      <td>39540</td>\n",
              "      <td>PMGC East</td>\n",
              "      <td>Weekday 1</td>\n",
              "      <td>one</td>\n",
              "    </tr>\n",
              "    <tr>\n",
              "      <th>3</th>\n",
              "      <td>NVParaboyyy6</td>\n",
              "      <td>Nova Esports</td>\n",
              "      <td>5</td>\n",
              "      <td>1</td>\n",
              "      <td>7</td>\n",
              "      <td>36</td>\n",
              "      <td>5987</td>\n",
              "      <td>69</td>\n",
              "      <td>1579</td>\n",
              "      <td>754</td>\n",
              "      <td>1</td>\n",
              "      <td>15950</td>\n",
              "      <td>5</td>\n",
              "      <td>2047</td>\n",
              "      <td>7</td>\n",
              "      <td>0</td>\n",
              "      <td>26788</td>\n",
              "      <td>PMGC East</td>\n",
              "      <td>Weekday 1</td>\n",
              "      <td>one</td>\n",
              "    </tr>\n",
              "    <tr>\n",
              "      <th>4</th>\n",
              "      <td>NVJimmyyyyy</td>\n",
              "      <td>Nova Esports</td>\n",
              "      <td>5</td>\n",
              "      <td>1</td>\n",
              "      <td>6</td>\n",
              "      <td>36</td>\n",
              "      <td>6029</td>\n",
              "      <td>0</td>\n",
              "      <td>928</td>\n",
              "      <td>400</td>\n",
              "      <td>1</td>\n",
              "      <td>18666</td>\n",
              "      <td>4</td>\n",
              "      <td>1181</td>\n",
              "      <td>3</td>\n",
              "      <td>0</td>\n",
              "      <td>30110</td>\n",
              "      <td>PMGC East</td>\n",
              "      <td>Weekday 1</td>\n",
              "      <td>one</td>\n",
              "    </tr>\n",
              "    <tr>\n",
              "      <th>...</th>\n",
              "      <td>...</td>\n",
              "      <td>...</td>\n",
              "      <td>...</td>\n",
              "      <td>...</td>\n",
              "      <td>...</td>\n",
              "      <td>...</td>\n",
              "      <td>...</td>\n",
              "      <td>...</td>\n",
              "      <td>...</td>\n",
              "      <td>...</td>\n",
              "      <td>...</td>\n",
              "      <td>...</td>\n",
              "      <td>...</td>\n",
              "      <td>...</td>\n",
              "      <td>...</td>\n",
              "      <td>...</td>\n",
              "      <td>...</td>\n",
              "      <td>...</td>\n",
              "      <td>...</td>\n",
              "      <td>...</td>\n",
              "    </tr>\n",
              "    <tr>\n",
              "      <th>21546</th>\n",
              "      <td>RSG Luk</td>\n",
              "      <td>RSG</td>\n",
              "      <td>2</td>\n",
              "      <td>0</td>\n",
              "      <td>0</td>\n",
              "      <td>6</td>\n",
              "      <td>1767</td>\n",
              "      <td>0</td>\n",
              "      <td>357</td>\n",
              "      <td>60</td>\n",
              "      <td>0</td>\n",
              "      <td>9705</td>\n",
              "      <td>2</td>\n",
              "      <td>91</td>\n",
              "      <td>0</td>\n",
              "      <td>0</td>\n",
              "      <td>13515</td>\n",
              "      <td>Sea Play-in</td>\n",
              "      <td>Final</td>\n",
              "      <td>one</td>\n",
              "    </tr>\n",
              "    <tr>\n",
              "      <th>21547</th>\n",
              "      <td>MJ Romeo</td>\n",
              "      <td>Marjin Esports</td>\n",
              "      <td>3</td>\n",
              "      <td>0</td>\n",
              "      <td>1</td>\n",
              "      <td>3</td>\n",
              "      <td>3536</td>\n",
              "      <td>0</td>\n",
              "      <td>313</td>\n",
              "      <td>1519</td>\n",
              "      <td>0</td>\n",
              "      <td>11684</td>\n",
              "      <td>3</td>\n",
              "      <td>445</td>\n",
              "      <td>2</td>\n",
              "      <td>0</td>\n",
              "      <td>20108</td>\n",
              "      <td>Sea Play-in</td>\n",
              "      <td>Final</td>\n",
              "      <td>one</td>\n",
              "    </tr>\n",
              "    <tr>\n",
              "      <th>21548</th>\n",
              "      <td>T2i Ferrari</td>\n",
              "      <td>Talent Esports</td>\n",
              "      <td>5</td>\n",
              "      <td>0</td>\n",
              "      <td>1</td>\n",
              "      <td>3</td>\n",
              "      <td>3089</td>\n",
              "      <td>0</td>\n",
              "      <td>700</td>\n",
              "      <td>149</td>\n",
              "      <td>0</td>\n",
              "      <td>7108</td>\n",
              "      <td>5</td>\n",
              "      <td>446</td>\n",
              "      <td>2</td>\n",
              "      <td>0</td>\n",
              "      <td>13953</td>\n",
              "      <td>Sea Play-in</td>\n",
              "      <td>Final</td>\n",
              "      <td>one</td>\n",
              "    </tr>\n",
              "    <tr>\n",
              "      <th>21549</th>\n",
              "      <td>HB Six666</td>\n",
              "      <td>Homebois</td>\n",
              "      <td>2</td>\n",
              "      <td>0</td>\n",
              "      <td>0</td>\n",
              "      <td>2</td>\n",
              "      <td>1841</td>\n",
              "      <td>0</td>\n",
              "      <td>306</td>\n",
              "      <td>254</td>\n",
              "      <td>0</td>\n",
              "      <td>7514</td>\n",
              "      <td>2</td>\n",
              "      <td>224</td>\n",
              "      <td>0</td>\n",
              "      <td>0</td>\n",
              "      <td>11760</td>\n",
              "      <td>Sea Play-in</td>\n",
              "      <td>Final</td>\n",
              "      <td>one</td>\n",
              "    </tr>\n",
              "    <tr>\n",
              "      <th>21550</th>\n",
              "      <td>FaZe MR5</td>\n",
              "      <td>FaZe Clan</td>\n",
              "      <td>1</td>\n",
              "      <td>0</td>\n",
              "      <td>0</td>\n",
              "      <td>1</td>\n",
              "      <td>1099</td>\n",
              "      <td>0</td>\n",
              "      <td>235</td>\n",
              "      <td>135</td>\n",
              "      <td>0</td>\n",
              "      <td>11636</td>\n",
              "      <td>1</td>\n",
              "      <td>0</td>\n",
              "      <td>0</td>\n",
              "      <td>0</td>\n",
              "      <td>12957</td>\n",
              "      <td>Sea Play-in</td>\n",
              "      <td>Final</td>\n",
              "      <td>one</td>\n",
              "    </tr>\n",
              "  </tbody>\n",
              "</table>\n",
              "<p>21551 rows × 20 columns</p>\n",
              "</div>\n",
              "      <button class=\"colab-df-convert\" onclick=\"convertToInteractive('df-26ec6caf-08da-4235-a48a-562a95442688')\"\n",
              "              title=\"Convert this dataframe to an interactive table.\"\n",
              "              style=\"display:none;\">\n",
              "        \n",
              "  <svg xmlns=\"http://www.w3.org/2000/svg\" height=\"24px\"viewBox=\"0 0 24 24\"\n",
              "       width=\"24px\">\n",
              "    <path d=\"M0 0h24v24H0V0z\" fill=\"none\"/>\n",
              "    <path d=\"M18.56 5.44l.94 2.06.94-2.06 2.06-.94-2.06-.94-.94-2.06-.94 2.06-2.06.94zm-11 1L8.5 8.5l.94-2.06 2.06-.94-2.06-.94L8.5 2.5l-.94 2.06-2.06.94zm10 10l.94 2.06.94-2.06 2.06-.94-2.06-.94-.94-2.06-.94 2.06-2.06.94z\"/><path d=\"M17.41 7.96l-1.37-1.37c-.4-.4-.92-.59-1.43-.59-.52 0-1.04.2-1.43.59L10.3 9.45l-7.72 7.72c-.78.78-.78 2.05 0 2.83L4 21.41c.39.39.9.59 1.41.59.51 0 1.02-.2 1.41-.59l7.78-7.78 2.81-2.81c.8-.78.8-2.07 0-2.86zM5.41 20L4 18.59l7.72-7.72 1.47 1.35L5.41 20z\"/>\n",
              "  </svg>\n",
              "      </button>\n",
              "      \n",
              "  <style>\n",
              "    .colab-df-container {\n",
              "      display:flex;\n",
              "      flex-wrap:wrap;\n",
              "      gap: 12px;\n",
              "    }\n",
              "\n",
              "    .colab-df-convert {\n",
              "      background-color: #E8F0FE;\n",
              "      border: none;\n",
              "      border-radius: 50%;\n",
              "      cursor: pointer;\n",
              "      display: none;\n",
              "      fill: #1967D2;\n",
              "      height: 32px;\n",
              "      padding: 0 0 0 0;\n",
              "      width: 32px;\n",
              "    }\n",
              "\n",
              "    .colab-df-convert:hover {\n",
              "      background-color: #E2EBFA;\n",
              "      box-shadow: 0px 1px 2px rgba(60, 64, 67, 0.3), 0px 1px 3px 1px rgba(60, 64, 67, 0.15);\n",
              "      fill: #174EA6;\n",
              "    }\n",
              "\n",
              "    [theme=dark] .colab-df-convert {\n",
              "      background-color: #3B4455;\n",
              "      fill: #D2E3FC;\n",
              "    }\n",
              "\n",
              "    [theme=dark] .colab-df-convert:hover {\n",
              "      background-color: #434B5C;\n",
              "      box-shadow: 0px 1px 3px 1px rgba(0, 0, 0, 0.15);\n",
              "      filter: drop-shadow(0px 1px 2px rgba(0, 0, 0, 0.3));\n",
              "      fill: #FFFFFF;\n",
              "    }\n",
              "  </style>\n",
              "\n",
              "      <script>\n",
              "        const buttonEl =\n",
              "          document.querySelector('#df-26ec6caf-08da-4235-a48a-562a95442688 button.colab-df-convert');\n",
              "        buttonEl.style.display =\n",
              "          google.colab.kernel.accessAllowed ? 'block' : 'none';\n",
              "\n",
              "        async function convertToInteractive(key) {\n",
              "          const element = document.querySelector('#df-26ec6caf-08da-4235-a48a-562a95442688');\n",
              "          const dataTable =\n",
              "            await google.colab.kernel.invokeFunction('convertToInteractive',\n",
              "                                                     [key], {});\n",
              "          if (!dataTable) return;\n",
              "\n",
              "          const docLinkHtml = 'Like what you see? Visit the ' +\n",
              "            '<a target=\"_blank\" href=https://colab.research.google.com/notebooks/data_table.ipynb>data table notebook</a>'\n",
              "            + ' to learn more about interactive tables.';\n",
              "          element.innerHTML = '';\n",
              "          dataTable['output_type'] = 'display_data';\n",
              "          await google.colab.output.renderOutput(dataTable, element);\n",
              "          const docLink = document.createElement('div');\n",
              "          docLink.innerHTML = docLinkHtml;\n",
              "          element.appendChild(docLink);\n",
              "        }\n",
              "      </script>\n",
              "    </div>\n",
              "  </div>\n",
              "  "
            ]
          },
          "metadata": {},
          "execution_count": 3
        }
      ],
      "source": [
        "pd.set_option('display.max_columns', None)\n",
        "df = pd.read_csv('https://raw.githubusercontent.com/rifaidimas/PUBG_Prediction/main/data/PUBG_Mobile.csv',sep= ';')\n",
        "df = df.drop(['Rank', 'Total'],axis = 1)\n",
        "df"
      ]
    },
    {
      "cell_type": "code",
      "execution_count": null,
      "metadata": {
        "colab": {
          "base_uri": "https://localhost:8080/"
        },
        "id": "_olhH65-Fddq",
        "outputId": "4eba5586-0232-4047-a952-ea93c4edd505"
      },
      "outputs": [
        {
          "output_type": "stream",
          "name": "stdout",
          "text": [
            "{'Name': {'1952EVILEYE': 0, '1952Entry': 1, '1952Seawine': 2, '1952Ã¹9Tdegree': 3, '1SHoT': 4, '24k': 5, '2812': 6, '2E ChuaCoong': 7, '2E F1Korea': 8, '2E NamShinnT': 9, '2E Tuanz2K': 10, '33zAMO': 11, '3LWANI': 12, '3TN': 13, '3xALI': 14, '3xCRONUS': 15, '3xKAIZEN': 16, '3xMIRACLE': 17, '3xOREO': 18, '401': 19, '47 8E88': 20, '47 Kns': 21, '47 Lancelot': 22, '47 Mpoz': 23, '47 NOOMza': 24, '47 iQu': 25, '4RVLStonedALL': 26, '4RivalsAppy': 27, '4RivalsEypu1': 28, '4RivalsPEMBURU': 29, '4RivalsR1TH': 30, '4VDannniTFD': 31, '4VahmedTFD': 32, '4VashTFDÃ»': 33, '4VendlessTFD': 34, '4Vleon0pTFD': 35, '52xrageDAKU': 36, '52xrageFASTER': 37, '52xrageFERO': 38, '52xragePain': 39, '52xrageZEN': 40, '66Aimer': 41, '6NAYA': 42, '77Plazza': 43, '7DsGuerreroå¥´': 44, '7DsHard': 45, '7DsJoaco': 46, '7DsKratozyxx': 47, '7DsLucasboyy': 48, '7DsLuisFer': 49, '7REEF': 50, '7SeaAkKuJoD': 51, '7SeaJhukegaNHI': 52, '7SeaMEMO': 53, '7SeaPREC10US': 54, '7SeaRipson': 55, '7SeaXiwanCrazi': 56, '89 2SECx': 57, '89 Mendezx': 58, '89 MrTarz': 59, '89 OREOx': 60, '89 Testerx': 61, '99 Justcarys': 62, '99 Nutthagorn': 63, '99 PEACEz': 64, '99 ShabuBoy': 65, '99 aRMJoNe': 66, '9zAdreN': 67, '9zAiklon': 68, '9zAlexiss': 69, '9zChiquito': 70, '9zDesx': 71, 'A1es6NiN366': 72, 'A1esDANTE': 73, 'A1esRxJax': 74, 'A1esShoikot': 75, 'A1esSiNiSTER': 76, 'A3SAR': 77, 'A7CAAAARRILHO': 78, 'A7CARRILH0': 79, 'A7MAAAAFIOSO': 80, 'A7REVO': 81, 'A7SENAAAATEXA': 82, 'A7SWAAAAGUIN': 83, 'ACTJIN': 84, 'ADAYES': 85, 'ADIS': 86, 'ADLENO': 87, 'AE 56Ponbit5X': 88, 'AE fanatic5X': 89, 'AE potato5X': 90, 'AE renalRe5X': 91, 'AE superUna5X': 92, 'AG BarBe': 93, 'AG DAVAN': 94, 'AG RanZer': 95, 'AG TheTop': 96, 'AGGErago': 97, 'AGGGuapo': 98, 'AGGLeonel': 99, 'AGGMaluma': 100, 'AGGRojas': 101, 'AGGWero': 102, 'AHaJlu3': 103, 'AKRAM777': 104, 'ALAA': 105, 'ALHAJE': 106, 'ALI21': 107, 'ALKING': 108, 'ALONEEEE': 109, 'AMT AresMGN': 110, 'AMT JeromeMGN': 111, 'AMT MoxxyMGN': 112, 'AMT NastyMGN': 113, 'AMT VirgilMGN': 114, 'ANACONDA': 115, 'ANGELO33': 116, 'APG AstroX': 117, 'APG DeeZyOP': 118, 'APG SkyNin': 119, 'APG Stalker': 120, 'APG Zero1': 121, 'ARCHONNNN': 122, 'ARTbartzyx': 123, 'ARTmagnata': 124, 'ARTniico': 125, 'ARTpain': 126, 'ARTpardalgg': 127, 'ARTpatrick': 128, 'AT7Asta': 129, 'AT7Astaa': 130, 'AT7Fran96': 131, 'AT7Luckyyyyy': 132, 'AT7Milos': 133, 'AT7cardi': 134, 'AT7chooco': 135, 'AT7cxc': 136, 'ATHIS': 137, 'AURA HANS4YOU': 138, 'AURA Jaydenn': 139, 'AURA NoMrcy': 140, 'AURA SiX': 141, 'AURA sTaRboY': 142, 'AWM': 143, 'AXIS Faris': 144, 'AXIS Heyynoob': 145, 'AXIS Jumper': 146, 'AXIS Kacang': 147, 'AXIS Mica': 148, 'AXZCERvRM': 149, 'AZIZ': 150, 'Acacia': 151, 'Aces': 152, 'Aeson': 153, 'Aesorr': 154, 'AgentÄ«47': 155, 'Akashi': 156, 'Ali': 157, 'Alim': 158, 'Alucard': 159, 'AndoreX': 160, 'AngryQ': 161, 'Antho': 162, 'ArHaPY': 163, 'Attacker': 164, 'B0YKA': 165, 'B3REVERBmvp': 166, 'BAC 9NoizZ': 167, 'BAC AumStyle': 168, 'BAC ICEs': 169, 'BAC MalonZ': 170, 'BAC ShirtyS': 171, 'BANDAR': 172, 'BARDASHANI': 173, 'BCSãƒ»Crtomato': 174, 'BCSãƒ»JUSTHlS': 175, 'BCSãƒ»Skylar': 176, 'BCSãƒ»Zussy': 177, 'BDDEEEEEEEX': 178, 'BDMAAAAART1NSZ': 179, 'BDNiCOLAS': 180, 'BDRAGNAR': 181, 'BDTALENTz': 182, 'BDfoquisinX3': 183, 'BDgcgod': 184, 'BDgxlden': 185, 'BDromuloziN333': 186, 'BEKK': 187, 'BESTIA': 188, 'BFD 2youlFW': 189, 'BFD Chetahhh': 190, 'BFD noox': 191, 'BFD ucup': 192, 'BGreenn': 193, 'BIMMMYYY': 194, 'BJKEnjoy7': 195, 'BJKRecent': 196, 'BJKSonHP': 197, 'BJKSword': 198, 'BJKZessy': 199, 'BKES ARMx': 200, 'BKES CCsx': 201, 'BKES Kamdee': 202, 'BKES LOBBYx': 203, 'BKES TwentyFive': 204, 'BKES Zapsford': 205, 'BLACKlost': 206, 'BLEANQ': 207, 'BLVCKwhite': 208, 'BLuE': 209, 'BNW Barrier': 210, 'BNW CoppinLee': 211, 'BNW Flux': 212, 'BNW KeyMINE': 213, 'BOBER': 214, 'BOOM Bossku': 215, 'BOOM Hexaz': 216, 'BOOM Kent413': 217, 'BOOM Tetsuyaa': 218, 'BOOM VokerDY': 219, 'BOSS AboyyRxz': 220, 'BOSS AzfarZL': 221, 'BOSS Syko': 222, 'BOSS ZigZagNS': 223, 'BOSS iNaokiOP': 224, 'BPMGC East': 225, 'BPMGC EastX': 226, 'BR3R': 227, 'BRHE': 228, 'BRKgusta': 229, 'BRKhydeikiiii': 230, 'BRKmaia': 231, 'BRKoficialzyx': 232, 'BRKzambuttszzz': 233, 'BROLY777': 234, 'BRU Gewwy': 235, 'BRU Kengzo': 236, 'BRU Myn4meP': 237, 'BRU OnLine24': 238, 'BRU Rush9': 239, 'BRU Twokay': 240, 'BTR Liquid': 241, 'BTR Luxxy': 242, 'BTR Ryzen': 243, 'BTR Zuxxy': 244, 'BTR uHigh': 245, 'BUCKY': 246, 'BabaOp': 247, 'Bamboo': 248, 'Ban': 249, 'Batikha': 250, 'Beg4Mercy': 251, 'Benny': 252, 'Bensu': 253, 'Beowulf': 254, 'Berkq': 255, 'Bi': 256, 'Bin': 257, 'Blinky': 258, 'BoltyWNL': 259, 'Bommpa': 260, 'Boom': 261, 'Boran': 262, 'BreaKMVP': 263, 'BÃ¢ng': 264, 'CARRYBOY': 265, 'CEUS': 266, 'CHILLZ': 267, 'CID Harry': 268, 'CID Johnnn4k': 269, 'CID Percent': 270, 'CID RusseLL': 271, 'CID Saycloudd': 272, 'CLC Adibz': 273, 'CLC Funky': 274, 'CLC JimmyOP': 275, 'CLC Mango': 276, 'CLC ShinZi': 277, 'CLC Zeyrox': 278, 'CLx420Boy': 279, 'CLxDANI': 280, 'CLxDRAWLIN': 281, 'CLxTEENWOLF': 282, 'CLxZIBYAN': 283, 'COSTI': 284, 'CP9daaavid': 285, 'CP9dreww': 286, 'CP9oscar': 287, 'CP9strappp': 288, 'CRAWL': 289, 'CRAZY': 290, 'CRONBOY': 291, 'CT AA': 292, 'CT CHad1': 293, 'CT Oryg': 294, 'CT PengSkr': 295, 'CYOXGHOUL': 296, 'Caaatopv0': 297, 'Caleeeboyyy': 298, 'Calsee': 299, 'Capone': 300, 'Casperz': 301, 'Cat': 302, 'CatPyyy': 303, 'CengX': 304, 'Ceptives': 305, 'Chamani': 306, 'Chanel': 307, 'CheW': 308, 'Cheetah': 309, 'Cherry': 310, 'Chico': 311, 'Chiáº¿nLus': 312, 'Chopper': 313, 'Chua': 314, 'ChunKira': 315, 'Clever': 316, 'Coa77mvp': 317, 'Cross': 318, 'CÄ¯AÄ¯IÄ¯RÄ¯O': 319, 'D7h': 320, 'DADAEV': 321, 'DAMAR': 322, 'DAMIAN18': 323, 'DAPHNE': 324, 'DARKO': 325, 'DELHAAP': 326, 'DESHA999': 327, 'DETuruLoVeSiR': 328, 'DEWWWWWbby': 329, 'DEchariiSIR': 330, 'DEfragBoySÃŒR': 331, 'DEfragSÃŽR': 332, 'DEontopSIR': 333, 'DEratedSIR': 334, 'DEshifuSIRÄªÄª': 335, 'DEshifuSIRÄ«': 336, 'DG Flyboy': 337, 'DG MCLERRY': 338, 'DG Millyano': 339, 'DG RANCiD': 340, 'DISKRIM': 341, 'DMX': 342, 'DORIN': 343, 'DOZ Ateh': 344, 'DOZ BabyKim': 345, 'DOZ ItsKido': 346, 'DOZ PamiZ': 347, 'DOZ RIKI': 348, 'DRSxDELTA': 349, 'DRSxGYALZEÅƒ': 350, 'DRSxKiLLerYT': 351, 'DRSxMAFIANIN': 352, 'DRSxMAFIANINJA': 353, 'DRSxMrBOROÌ‚': 354, 'DRSxNIMÃ€': 355, 'DRSxREAPER': 356, 'DRSxREBEL': 357, 'DRSxRULZOG': 358, 'DRSxÄ€JÅ«': 359, 'DSEscanorr': 360, 'DSFraggersz1': 361, 'DSLuuuHarden': 362, 'DSSaz1': 363, 'DSèŒ…lite': 364, 'DU HENZpublic': 365, 'DU Kennoth': 366, 'DU STeveBoy': 367, 'DU Unii': 368, 'DWG_FAVIAN': 369, 'DWG_FOREST': 370, 'DWG_JUNI': 371, 'DWG_Ssung': 372, 'DWOSS333': 373, 'DXFrankyyy007': 374, 'DXGe': 375, 'DXLamborghini': 376, 'DXRabiz': 377, 'DXT2i Ferrariiii': 378, 'DXTDuccc': 379, 'DaX â€¢ OctopuS': 380, 'DaXãƒ»Aago': 381, 'DaXãƒ»ChanteY': 382, 'DaXãƒ»GyÄ\\x81ntey': 383, 'DaXãƒ»SpikÃ©': 384, 'Daddy': 385, 'Damii': 386, 'DarLy': 387, 'Dark7': 388, 'DatKonn': 389, 'DeTuruLoveSÃ®R': 390, 'Deadline': 391, 'Defoex': 392, 'Destiny': 393, 'DiLA16': 394, 'Dino3ABp': 395, 'DokunMACHNE': 396, 'Drago': 397, 'Draw7': 398, 'E29 Bualoy': 399, 'E29 Kluaychi': 400, 'E29 Mummy': 401, 'E29 TawanYehh': 402, 'E29 VixolOxy': 403, 'EFFECT': 404, 'EFLEX': 405, 'ELCH4PO': 406, 'ELCHAPO': 407, 'ELeNdo5': 408, 'ENDORPHINwU': 409, 'ENEMY': 410, 'ESCANOR': 411, 'EVOS KF': 412, 'EVOS Lyzerg': 413, 'EVOS Microboy': 414, 'EVOS Redface': 415, 'EVS InSomnus': 416, 'EVS Kuza': 417, 'EVS Mika': 418, 'EVS RaZor': 419, 'EVS xSamZ': 420, 'EXPIREEEZZZ': 421, 'Easy': 422, 'Eggoaatt': 423, 'Eliseo': 424, 'Elvis': 425, 'Emmaaa': 426, 'Enigma': 427, 'Enjoyy7': 428, 'Evostation': 429, 'EzeL7z': 430, 'F1Korea': 431, 'F4broo': 432, 'F4frog44': 433, 'F4hugozin': 434, 'F4prog': 435, 'FABI667': 436, 'FACHE': 437, 'FAYLI': 438, 'FBAntodalt': 439, 'FBDokunMachine': 440, 'FBFalky': 441, 'FBKnoxBOMB': 442, 'FGxBigMilo': 443, 'FGxMILOVAN777': 444, 'FGxPOTRO888': 445, 'FGxPapiPotro': 446, 'FGxScreaaMvc': 447, 'FGxTiggerZin': 448, 'FGxTiggerZinS': 449, 'FGxTrigga': 450, 'FL CatDoG665': 451, 'FL J0SAVE': 452, 'FL Milo': 453, 'FL Quinnx': 454, 'FL Shappie': 455, 'FLAfoquisin': 456, 'FLAggplay': 457, 'FLAlouiszada': 458, 'FLAmaxen': 459, 'FLAnettoso': 460, 'FLAsparta': 461, 'FLORIN': 462, 'FLYQEE': 463, 'FRAMAR': 464, 'FREAK': 465, 'FRESH': 466, 'FRG AdikLuq': 467, 'FRG Helton': 468, 'FRG Luppy': 469, 'FRG Oliyo': 470, 'FRG Repoboy': 471, 'FROSTY': 472, 'FROZENN': 473, 'FROZENNXz': 474, 'FROZENNx': 475, 'FURRIAAA': 476, 'FURY': 477, 'FUTLovazin': 478, 'FUTLutz': 479, 'FUTRaum': 480, 'FUTSolkay': 481, 'FYRA': 482, 'FaKe1st': 483, 'FaRoK31': 484, 'FaZe BeeR11': 485, 'FaZe LycaN': 486, 'FaZe MR5': 487, 'FaZe TonyK': 488, 'FaZe Vintorez': 489, 'FaZeÛ°BeeR11': 490, 'FaZeâ€¢Bulshark': 491, 'FaZeâ€¢Korpaiix': 492, 'FaZeâ€¢MR5': 493, 'FaZeâ€¢TonyK': 494, 'FaZeâ€¢Vintorez': 495, 'Faash': 496, 'Faker': 497, 'Falky': 498, 'FameBoiz': 499, 'FateÅ«': 500, 'Fatimax': 501, 'Fearz': 502, 'FirstFrost': 503, 'Fishy': 504, 'Flash': 505, 'Flex': 506, 'Florenzi': 507, 'ForsA': 508, 'Franky': 509, 'Fstyrant': 510, 'Fswasi': 511, 'GADAFi': 512, 'GAGAv12': 513, 'GAiTH': 514, 'GD BLESSING': 515, 'GD BOOMS': 516, 'GD DAYBOT': 517, 'GD NICIL': 518, 'GD SATAR': 519, 'GE MasterVAPE': 520, 'GE NotiBoy': 521, 'GE SmilE': 522, 'GE TrustMee37': 523, 'GE WT17': 524, 'GEEK Audry': 525, 'GEEK Catalies': 526, 'GEEK DamRUDE': 527, 'GEEK Katou': 528, 'GEEK Maybe': 529, 'GEEK Miracle': 530, 'GEEK Qb': 531, 'GEEK SONiX': 532, 'GEEK Sane': 533, 'GEEK Snipes': 534, 'GEEK Tomz': 535, 'GG': 536, 'GHOST': 537, 'GK1st': 538, 'GNX BiuBiu': 539, 'GNX LoongSkr': 540, 'GNX Looyou': 541, 'GNX SnAppIE': 542, 'GODLZGOD': 543, 'GONZO33': 544, 'GPX BELVAA': 545, 'GPX BILOTT': 546, 'GPX CRYBOO': 547, 'GPX MATTOI': 548, 'GPX ROSEMARY': 549, 'GROZAÄª': 550, 'GUNNER': 551, 'GVVV': 552, 'Gavi': 553, 'Gbrute': 554, 'GeeJee': 555, 'Ghaith': 556, 'GinK0': 557, 'Glaz': 558, 'Glint': 559, 'GodFan': 560, 'GodJie': 561, 'GodLClutchgod1': 562, 'GodLJonathan10': 563, 'GodLNeyoo44': 564, 'GodLSaumRaj': 565, 'Goldblade': 566, 'Golden': 567, 'Gosu': 568, 'Gringo': 569, 'GzmDUCK': 570, 'GzmLucasziN': 571, 'GzmMateuziim': 572, 'GzmMythizyNN': 573, 'GzmPulseziNN': 574, 'HAIL C4': 575, 'HAIL DIEHARD': 576, 'HAIL MEGAMIND': 577, 'HAIL RNJ': 578, 'HAIL Shopper': 579, 'HAMKO': 580, 'HAMODY': 581, 'HAPPYJ': 582, 'HARDCORE': 583, 'HARDMAN': 584, 'HASAN': 585, 'HATEEES': 586, 'HAVLIK4ina': 587, 'HB Bard': 588, 'HB IronPro': 589, 'HB Six666': 590, 'HB Tamm': 591, 'HB Trix': 592, 'HEMO': 593, 'HERMANUS444': 594, 'HH24': 595, 'HOLLS555': 596, 'HSGCGOD': 597, 'HSMYTH666': 598, 'HSNINHO9999999': 599, 'HSPEDRINHO999': 600, 'HSSEM9': 601, 'HUMAM': 602, 'HV XTREME': 603, 'HV â€¢ ASSASSIN': 604, 'HV â€¢ Prabin': 605, 'HVãƒ»CLOUD': 606, 'HVãƒ»WADUãƒ»G': 607, 'Hamody': 608, 'Hamsig': 609, 'HaÌ€DeÌ€Gucci': 610, 'HoangT': 611, 'Hoanh03': 612, 'Hope': 613, 'Huenghii': 614, 'Hunt': 615, 'IHCxAlex': 616, 'IHCxGodÅ‚ess': 617, 'IHCxIcy': 618, 'IHCxZYOÅ\\x81Å\\x81': 619, 'ILYAS': 620, 'INF99FederaL': 621, 'INFIN GodTunny': 622, 'INFIN Logan': 623, 'INFIN Mela': 624, 'INFIN NEAR': 625, 'INFIN Noozy': 626, 'INFLAW': 627, 'INFLiLBOY': 628, 'INFaquiles': 629, 'INFcaiowsk1': 630, 'INFgamo': 631, 'INFgorda': 632, 'INFluxe': 633, 'INFnito': 634, 'INFzohaNK11': 635, 'INGUSH': 636, 'INTZcirrozyx': 637, 'INTZmtheus': 638, 'INTZnetoszz': 639, 'INTZren4nz': 640, 'ION Fajarr': 641, 'ION Frenzzy': 642, 'ION GenFos': 643, 'ION Miseryy': 644, 'ION Rocky': 645, 'ISGjessupZDL': 646, 'ISGjoako': 647, 'ISGkriegzera1': 648, 'ISGmartino': 649, 'ISGquintoZDL': 650, 'ISGvaldivia': 651, 'ISSAJATT': 652, 'IVANESKA': 653, 'Iconic': 654, 'Icy': 655, 'Inactive': 656, 'Incus': 657, 'IrÃ\\xads': 658, 'Issue': 659, 'J1MMY': 660, 'J7': 661, 'JAMMAZ': 662, 'JASSS': 663, 'JEEKEYÂ¹9': 664, 'JGRbbyrodz': 665, 'JGRorlandogg': 666, 'JGRpatronZinn': 667, 'JGRseba': 668, 'JGRskelerr': 669, 'JMYL Easy': 670, 'JMYL John': 671, 'JMYL Joseph': 672, 'JMYL Sonic': 673, 'JMYL TheKid': 674, 'JOKERÅ«': 675, 'Jabal': 676, 'Jasonnn': 677, 'JattG': 678, 'Jayy': 679, 'JayyWayy': 680, 'Jeff': 681, 'JetgiL': 682, 'JikeyT1': 683, 'Joey': 684, 'Jonsnow': 685, 'Juancho': 686, 'KAIROS': 687, 'KAITO': 688, 'KALAGA': 689, 'KANTE': 690, 'KEME': 691, 'KHI damaso': 692, 'KHI demigod': 693, 'KHI h2r': 694, 'KHI monboy': 695, 'KHI rankid': 696, 'KILLIAN': 697, 'KILLSWITCH': 698, 'KITSUNE': 699, 'KNIGHT': 700, 'KNOXxxx': 701, 'KOG BOSSZA': 702, 'KOG CONCEPT': 703, 'KOG GODDARD': 704, 'KOG M16': 705, 'KOG VELMOTH': 706, 'KOKAboyyy6': 707, 'KSOP Choco': 708, 'KSOP ChocoBoy': 709, 'KSOP Harry': 710, 'KSOP Lion': 711, 'KUDUR': 712, 'Kapahala': 713, 'Karnage': 714, 'KeL': 715, 'Kecth': 716, 'Kezzers22': 717, 'Kindnesss': 718, 'KingPigg': 719, 'Kircali': 720, 'Kiyoshi': 721, 'KnightsAlucard': 722, 'KnightsChico': 723, 'KnightsKoops': 724, 'KnightsZenox': 725, 'KnowMe': 726, 'Knox7': 727, 'Koi': 728, 'Koops': 729, 'Korcerrah': 730, 'Korka': 731, 'Koteyka': 732, 'Kronic': 733, 'Ks33AZER': 734, 'KsARaM': 735, 'KsJ9': 736, 'KsVOLT': 737, 'KsViTO': 738, 'LAITH': 739, 'LASHIN': 740, 'LAST': 741, 'LAU': 742, 'LAZY': 743, 'LELOUCH6': 744, 'LG MaxLV': 745, 'LG Quadro': 746, 'LG S3Dior': 747, 'LG TrangXIX': 748, 'LIT CoCo': 749, 'LIT Hong': 750, 'LIT HuoXuan': 751, 'LIT SharK': 752, 'LLIN': 753, 'LLin': 754, 'LORANCE': 755, 'LORD': 756, 'LORDDD': 757, 'LPSCARDOZIN': 758, 'LPSCH1EFF': 759, 'LPSDiiMENOR': 760, 'LPSTOICO': 761, 'LTD': 762, 'LUÃ\\x8dSSS': 763, 'Lamborghini': 764, 'LangZ': 765, 'Lanlan': 766, 'Lauree': 767, 'Le7els': 768, 'LengX': 769, 'Leon': 770, 'Lewis': 771, 'LimboBoom': 772, 'Liquid': 773, 'Lord': 774, 'Lost': 775, 'Lovazin': 776, 'LowwT': 777, 'Loxy': 778, 'Luca': 779, 'Lucas': 780, 'Luna': 781, 'Lutz3k': 782, 'Lux666': 783, 'Luxor': 784, 'M1ND': 785, 'MAB Clamityy': 786, 'MAB Iftar': 787, 'MAB John': 788, 'MAB Mockeeyyy': 789, 'MALOYYY': 790, 'MANGO': 791, 'MANU99': 792, 'MANWELL': 793, 'MARSHALL': 794, 'MASTER': 795, 'MATIC': 796, 'MAX AhTeav': 797, 'MAX Crim': 798, 'MAX Desler': 799, 'MAX Pov Pov': 800, 'MEQU': 801, 'MERT': 802, 'MESSÅ‚win': 803, 'MEXICO': 804, 'MG': 805, 'MG ECHO': 806, 'MG EQ': 807, 'MG GZ': 808, 'MG Kuromyz': 809, 'MG NongBeam': 810, 'MG RASIO': 811, 'MGi': 812, 'MIRACLE': 813, 'MJ 1Second': 814, 'MJ BabyLoki': 815, 'MJ Marnett': 816, 'MJ Romeo': 817, 'MJ Sando': 818, 'MOHAdexter': 819, 'MONKYYY': 820, 'MORTAL': 821, 'MORTEZA': 822, 'MOUMEN': 823, 'MOUNIR': 824, 'MSC Jazperr': 825, 'MSC Nc2': 826, 'MSC PONDzai': 827, 'MSC PopZ': 828, 'MSC SiRBOY': 829, 'MSCãƒ»Jazperr': 830, 'MSCãƒ»Nc2': 831, 'MSCãƒ»PONDzai': 832, 'MSCãƒ»PopZ007': 833, 'MSCãƒ»TG13': 834, 'MSxNfpASH': 835, 'MSxNfpHELSI': 836, 'MSxNfpKHATEER': 837, 'MSxNfpKIYAN': 838, 'MSxNfpMARYY': 839, 'MUZ1NHO777': 840, 'MYSTRO': 841, 'MaarT': 842, 'Madara': 843, 'Maloy': 844, 'MandariN': 845, 'Marazm': 846, 'Marco': 847, 'MasterOP': 848, 'MaxLV': 849, 'Maximo': 850, 'Mayo': 851, 'Menace': 852, 'Michi': 853, 'Michiiuuu': 854, 'MidNight': 855, 'MilkyWay': 856, 'MitLaren': 857, 'Mourvd': 858, 'Mozzarrow': 859, 'MrHyozu': 860, 'MyAn': 861, 'MyLLIKeT': 862, 'Myths': 863, 'NABO': 864, 'NANO': 865, 'NAVIKITSUNÃ‰': 866, 'NAVIMATICCC666': 867, 'NAVIMEQQQU': 868, 'NAVITIXZYYY': 869, 'NAWT': 870, 'NDenzoo': 871, 'NDi800Kzin': 872, 'NDmarquinhoss': 873, 'NDnuneszin': 874, 'NDpaulogg': 875, 'NDpsicoo': 876, 'NEMO': 877, 'NEOZ': 878, 'NFT BADMAN': 879, 'NFT DRON': 880, 'NFT FLippy': 881, 'NFT SVAFVEL': 882, 'NFT ramones': 883, 'NGX.FREAK': 884, 'NGX.HAMODY': 885, 'NGX.LORD': 886, 'NGX.RAOUF': 887, 'NIGHTMARE': 888, 'NIHAT': 889, 'NNN7': 890, 'NOSSAAÃ€': 891, 'NSEA Aduka': 892, 'NSEA Flax0P': 893, 'NSEA Franky': 894, 'NSEA LexBot': 895, 'NSEA Magix': 896, 'NSEA XRushNN1': 897, 'NVJimmyyyyy': 898, 'NVKinggg': 899, 'NVMELIS': 900, 'NVOrder': 901, 'NVParaboyyy6': 902, 'NVqc1': 903, 'Nacho': 904, 'NamShinnT': 905, 'Narvalow': 906, 'Nawii': 907, 'NazGod': 908, 'NekorB': 909, 'Nemesisss': 910, 'Next': 911, 'Nguyen': 912, 'Niccol': 913, 'Nicky': 914, 'Nihat777': 915, 'NvrAlone': 916, 'Nytmare': 917, 'OCTAVIANmvp': 918, 'OFHAZE': 919, 'OM4R': 920, 'ONENOKKK90': 921, 'ONIC Jarjar': 922, 'ONIC Jobrenky': 923, 'ONIC NiKK': 924, 'ONIC Rossezy': 925, 'ONIC cleon': 926, 'ONYX Jeffz': 927, 'ONYX Marcarys': 928, 'ONYX OKsueng': 929, 'ONYX TIGERx': 930, 'ONYX cSkyOnly': 931, 'OSAMA': 932, 'OTHMAN': 933, 'OldBoy': 934, 'OldBoyy': 935, 'Oppa': 936, 'Orangeey': 937, 'OskarGG': 938, 'OwnerP': 939, 'P3nnyWise': 940, 'PETROXXX': 941, 'PHANTOM': 942, 'PHONIX': 943, 'PIPER': 944, 'PNL': 945, 'POCO': 946, 'POGBA6': 947, 'POLOG': 948, 'POWERFUL': 949, 'PRADA': 950, 'PREPOD': 951, 'PRESTLGE': 952, 'PRZ': 953, 'PT2RGRJD': 954, 'PTMadMax': 955, 'PTVeXe': 956, 'PTharameMR5': 957, 'PTslipknotXD': 958, 'PUCCAgoat': 959, 'PUNCHERRRRR': 960, 'PUSH': 961, 'Pain': 962, 'PainÄ¯Ä¯Å«': 963, 'Pan': 964, 'Panda18': 965, 'ParaJin': 966, 'Peace': 967, 'Peralta': 968, 'Pho': 969, 'PiCiii': 970, 'Pikang': 971, 'Pitersviter': 972, 'PokuS': 973, 'Polo': 974, 'Porsche': 975, 'Poser': 976, 'Pronto': 977, 'Ptenchik': 978, 'Purge': 979, 'Purp1e': 980, 'Pyllaao': 981, 'Q7': 982, 'QHT': 983, 'Qahtan': 984, 'Qiwang': 985, 'Qose': 986, 'Quadro': 987, 'Quann': 988, 'Qz': 989, 'Qâ€¢DESTROYER': 990, 'Qâ€¢GRAVITY': 991, 'Qâ€¢KHANN': 992, 'Qâ€¢WOLVERIE': 993, 'R0MEOo': 994, 'R2K Echo': 995, 'R2K Harm': 996, 'R2K Zykz': 997, 'R2K iZane': 998, 'R3G â€¢ INSANE': 999, 'R3G â€¢ JHONNY': 1000, 'R3G â€¢ NOCTO': 1001, 'R3G â€¢ VAAZ': 1002, 'R3G â€¢ VOLTRUX': 1003, 'R8TxANAS': 1004, 'R8TxD7h': 1005, 'R8TxFhidan': 1006, 'R8TxPRESTEGOH': 1007, 'R8TxSKTON': 1008, 'R8TxYwz3': 1009, 'RAGNAROK26': 1010, 'RAINN': 1011, 'RAMK': 1012, 'RANA69': 1013, 'RAOUF': 1014, 'RAWxAssaultOP': 1015, 'RAWxKazi': 1016, 'RAWxKhooni': 1017, 'RAWxMAMAGOD': 1018, 'RAWxNEMESIS': 1019, 'RAWxRIGGGG': 1020, 'RCãƒ»Devine': 1021, 'RCãƒ»Duelo': 1022, 'RCãƒ»ReijiOcO': 1023, 'RCãƒ»SaRa11': 1024, 'RCãƒ»lapis': 1025, 'REDOXbot': 1026, 'ROBBZ': 1027, 'ROFLAN': 1028, 'ROLKIS': 1029, 'ROMANA': 1030, 'ROMEO YT': 1031, 'ROYAL': 1032, 'RRQ Asaa': 1033, 'RRQ Chuckles': 1034, 'RRQ Mort': 1035, 'RRQ Nerpehko': 1036, 'RRQ Valdemort': 1037, 'RSG Brian': 1038, 'RSG Kim': 1039, 'RSG Luk': 1040, 'RSG RanGer': 1041, 'RSG Rexx': 1042, 'RSG SmallBoy': 1043, 'RVGhigorzada': 1044, 'RVGzerou': 1045, 'Rabiz': 1046, 'Rad': 1047, 'RafiCOBRA': 1048, 'Rage': 1049, 'Ragnar': 1050, 'Rago17': 1051, 'Rami05': 1052, 'Ramzey1HP': 1053, 'Raum': 1054, 'Raxy7': 1055, 'RayZ': 1056, 'Rebelion': 1057, 'RebelionV5': 1058, 'Recent': 1059, 'Reflect': 1060, 'Remix': 1061, 'Rex': 1062, 'Reznov': 1063, 'RiB': 1064, 'Rin0224': 1065, 'RipSevinnn': 1066, 'Ripped': 1067, 'RiseGARRYX': 1068, 'RiseMUFASAA': 1069, 'RiseMYTHIC': 1070, 'RiseMYTHIIC': 1071, 'RiseNUNES': 1072, 'RiseRAFiNHA': 1073, 'RoWDiegokid': 1074, 'RoWDreamzyxki': 1075, 'RoWFelipe': 1076, 'RoWM2M': 1077, 'RoWRorro': 1078, 'Rolkis': 1079, 'Rookie': 1080, 'Russ': 1081, 'Russell': 1082, 'RvGcapjao': 1083, 'RvGlohan': 1084, 'RÃ¹aSea': 1085, 'S1MPLE': 1086, 'S2GCalsee': 1087, 'S2GRipSevinnn': 1088, 'S2GSylasPew': 1089, 'S2GTimber': 1090, 'S3Dior': 1091, 'SA | ICENBERG': 1092, 'SA | Miracle': 1093, 'SA | SANCHIR89': 1094, 'SABIRgg': 1095, 'SADAT': 1096, 'SALAM': 1097, 'SAMO': 1098, 'SA| AN1FOOO': 1099, 'SAä¸¨Hersheyyyy': 1100, 'SB': 1101, 'SCOFIELD': 1102, 'SEAL Newbies': 1103, 'SEAL Piasau': 1104, 'SEAL Shaco': 1105, 'SEAL Tofu': 1106, 'SEALxB4RON': 1107, 'SEALxDEMO': 1108, 'SEALÑ…LEOOOOé¾™': 1109, 'SEALÑ…WALLY': 1110, 'SEFé™ŒR': 1111, 'SEM9 Bravo': 1112, 'SEM9 Dep': 1113, 'SEM9 Draxx': 1114, 'SEM9 Manprng': 1115, 'SEM9 Putra': 1116, 'SEM9 Stoned': 1117, 'SENKU': 1118, 'SERAAA33': 1119, 'SG Ikyar': 1120, 'SG PINKY': 1121, 'SG Pedongs': 1122, 'SG Smithh': 1123, 'SG ZaayOP': 1124, 'SGxAJ': 1125, 'SGxGYALZEN': 1126, 'SGxMAFIANINJA': 1127, 'SGxMrBORO': 1128, 'SGxNIMA': 1129, 'SHADOWEN': 1130, 'SHELBY': 1131, 'SHERIFF22': 1132, 'SHNDemon666': 1133, 'SIN': 1134, 'SKERP': 1135, 'SKILLZES': 1136, 'SKTON': 1137, 'SKYDOOO': 1138, 'SLEEEEPYYY': 1139, 'SLIKE': 1140, 'SLOWMO': 1141, 'SMBKecth': 1142, 'SMBKorcerrah': 1143, 'SMBSavieN': 1144, 'SMBTron': 1145, 'SMG AniqBoy': 1146, 'SMG Damqt': 1147, 'SMG Jenny': 1148, 'SMG Mail': 1149, 'SMG Veg': 1150, 'SMOKER': 1151, 'SON777': 1152, 'SP Gerr4rrD': 1153, 'SP JOWKERâ€‹': 1154, 'SP KIMMY': 1155, 'SP MeePhuz': 1156, 'SP Nutlyz': 1157, 'SRoD': 1158, 'STARxEMERGE': 1159, 'STARxGODFURY': 1160, 'STARxHUNK': 1161, 'STARxUSAMA': 1162, 'STARxZYROJAYÅ¸': 1163, 'STE33z': 1164, 'STEDaoShi': 1165, 'STEEZYruh': 1166, 'STESuNAN': 1167, 'STEYuYang': 1168, 'STEflowerge': 1169, 'STE| Action2A': 1170, 'STE| Pika2A': 1171, 'STE| Skryy2A': 1172, 'STE| Top2A': 1173, 'STEä¸¨ActiÃ²n': 1174, 'STEä¸¨TOP': 1175, 'STEä¸¨pikAä¸¶': 1176, 'STEä¸¨skryyyÂ¹': 1177, 'STRYCKER': 1178, 'STi8BLADE': 1179, 'STi8CRYPTO': 1180, 'STi8Ghost': 1181, 'STi8REVEUSE': 1182, 'STi8UZM': 1183, 'SURPRISEEE': 1184, 'SXAÃ‰CINN': 1185, 'SXFENEEEX': 1186, 'SXMARLONN': 1187, 'SXREISZIN': 1188, 'SXZEUSDEXX': 1189, 'SaTaÅƒ': 1190, 'Saif': 1191, 'SakiBuse': 1192, 'Salt': 1193, 'Salty': 1194, 'Samir': 1195, 'SammmL': 1196, 'SangSang': 1197, 'Sanji': 1198, 'Savien': 1199, 'Seaky': 1200, 'Seeko': 1201, 'Selim': 1202, 'Sexy': 1203, 'Sh1nYo': 1204, 'Silence': 1205, 'Silk': 1206, 'Sinyor': 1207, 'SixEyes': 1208, 'SkenzyJSS': 1209, 'SlyAxeel': 1210, 'SlyJere': 1211, 'SlyMysticå¥´å¥´': 1212, 'SlyRolexboyyy': 1213, 'SlyUioEu': 1214, 'Smeb': 1215, 'SnipeYT': 1216, 'Snowix': 1217, 'Snoz': 1218, 'SoIkay': 1219, 'SoLo': 1220, 'Soaz': 1221, 'Solitude': 1222, 'SonHP': 1223, 'Soozy': 1224, 'Soul9': 1225, 'Soulless': 1226, 'Spicy': 1227, 'Sprone9': 1228, 'Srom': 1229, 'StarLight': 1230, 'Steevo': 1231, 'Storm': 1232, 'Sunny': 1233, 'Sunrise': 1234, 'SupPig': 1235, 'Sus': 1236, 'SuuN': 1237, 'Suzan': 1238, 'Swave': 1239, 'SylasPew': 1240, 'T1MM Mewtwo': 1241, 'T1MM RealKp': 1242, 'T1MM Savage': 1243, 'T1MM ZaiZai': 1244, 'T2KFranky': 1245, 'T2KJane': 1246, 'T2KLegenD': 1247, 'T2KSAND3SH': 1248, 'T2KSuÃ¿og': 1249, 'T2i BoyTi': 1250, 'T2i CDauLanh': 1251, 'T2i Ferrari': 1252, 'T2i Lucas': 1253, 'TAPOK': 1254, 'TCHALLA': 1255, 'TDuc': 1256, 'TEAQ': 1257, 'TEM Bevi': 1258, 'TEM Essozip': 1259, 'TEM FLUK666': 1260, 'TEM MORMAN': 1261, 'TEM NYMPHz': 1262, 'TEM Onzenxs': 1263, 'TEs Emperor18': 1264, 'TEs Lang17': 1265, 'TEs Mercyyy': 1266, 'TEs Winter': 1267, 'TEs XiaoYu': 1268, 'TGun': 1269, 'THQ Boyka': 1270, 'THQ DamS': 1271, 'THQ Renski': 1272, 'THQ Zully': 1273, 'THQ hyqul': 1274, 'THÃ–R69': 1275, 'TINO': 1276, 'TIXZY': 1277, 'TJB ChaXin': 1278, 'TJB TingSkr': 1279, 'TJB Xiao7': 1280, 'TJB guodong': 1281, 'TJBHsir': 1282, 'TJBLon9z': 1283, 'TJBManHan': 1284, 'TJBattacker': 1285, 'TJBbamboo': 1286, 'TOFYZ': 1287, 'TONTON': 1288, 'TORNADOOO': 1289, 'TQAxeel': 1290, 'TQAyala': 1291, 'TQCUNHA': 1292, 'TQLaniNNNN': 1293, 'TQNITSUUUUUUU': 1294, 'TQRema': 1295, 'TQbyebye': 1296, 'TR1CKYYY': 1297, 'TRIPPYiQ': 1298, 'TRUMP': 1299, \"TRZ'FARDi9\": 1300, 'TRZKAPSHIsexy': 1301, 'TRZMan1shxD': 1302, 'TRZStormOP': 1303, 'TRZmadCAT': 1304, 'TS': 1305, 'TS Fredo5MX': 1306, 'TS KiD5MX': 1307, 'TS MADTOIMX': 1308, 'TS Y2KMX': 1309, 'TS iSHOTzMX': 1310, 'TSJumper01MX': 1311, 'TUDOR': 1312, 'TUFxABDULLAH': 1313, 'TUFxEDGAR': 1314, 'TUFxJOKER': 1315, 'TUFxTHOR': 1316, 'TUFxVIRUS': 1317, 'TUL1KA': 1318, 'TWIX': 1319, 'Talon': 1320, 'TamTam': 1321, 'TchiCo': 1322, 'Tensa': 1323, 'TensÃ\\xa0': 1324, 'Terminuz': 1325, 'TeyNinhhh': 1326, 'Thien2K': 1327, 'ThoBius': 1328, 'Tiigerz': 1329, 'Timber': 1330, 'TmwBigBossu': 1331, 'TmwHARRY': 1332, 'TmwIBBl': 1333, 'TmwKHANNÃ‘': 1334, 'TmwMarLeGaMVP': 1335, 'TmwREAPERX': 1336, 'ToZz': 1337, 'Tokyo': 1338, 'Tom': 1339, 'Trap': 1340, 'Trayzen': 1341, 'Trey': 1342, 'TriismE': 1343, 'Trofka': 1344, 'Tron': 1345, 'TruongZin': 1346, 'Tráº¯ngXIX': 1347, 'Tuanz2K': 1348, 'TusK': 1349, 'TynKat': 1350, 'ULISES': 1351, 'UNICORN': 1352, 'Uhtred': 1353, 'UnReaL': 1354, 'Unknown': 1355, 'V1C': 1356, 'V365 Ciel': 1357, 'V365 Crush': 1358, 'V365 GrmryRN': 1359, 'V365 Hadez': 1360, 'V365 Kean': 1361, 'V365 Prie': 1362, 'VAKULA': 1363, 'VAL G9': 1364, 'VAL MARTIN': 1365, 'VAL NoBiTa': 1366, 'VAL SYX': 1367, 'VAL TEASER': 1368, 'VAL ZEEZACK': 1369, 'VIBES': 1370, 'VIBESãƒ»JokÃ¨r': 1371, 'VIBESãƒ»MALIKÙ\\xad': 1372, 'VIBESãƒ»RYU2RGR': 1373, 'VIBESãƒ»beShawL': 1374, 'VINDEX': 1375, 'VKCIELL0': 1376, 'VKDIEG0': 1377, 'VKMAGRELIN': 1378, 'VKadriaN': 1379, 'VOIN Alva': 1380, 'VOIN Dabs2K': 1381, 'VOIN Kennan': 1382, 'VOIN Nyonx': 1383, 'VOIN Tensky': 1384, 'VORTEEEX': 1385, 'VPE 2Stopz': 1386, 'VPE FLUKETH': 1387, 'VPE Rvenclaw': 1388, 'VPE SchwepXz': 1389, 'VPE Stoned': 1390, 'Valic': 1391, 'VanKid': 1392, 'Vein': 1393, 'ViCÃ²i': 1394, 'Victor': 1395, 'Vigros': 1396, 'Vitamin': 1397, 'VlBESãƒ»JiGGL3': 1398, 'W4NTED': 1399, 'WADEA30': 1400, 'WALLYYY': 1401, 'WASTED': 1402, 'WELLY': 1403, 'WHICE': 1404, 'WINKY': 1405, 'WISKOLAAA': 1406, 'WUDSON': 1407, 'WaS AimLocker': 1408, 'WaS Rabbit': 1409, 'WaS RoSeG666': 1410, 'WaS TszY1nsKr': 1411, 'WaS farmer': 1412, 'Wanpone': 1413, 'White': 1414, 'WhiteZ': 1415, 'WhySoEz': 1416, 'Wild': 1417, 'Wisky': 1418, 'WoonT': 1419, 'XKey': 1420, 'XVSS Magorix': 1421, 'XVSS Mark1': 1422, 'XVSS Nicenice': 1423, 'XVSS Nuttinzx': 1424, 'XVSS Testo': 1425, 'XZIST': 1426, 'XarakiriMVP': 1427, 'Xifan': 1428, 'Xray': 1429, 'Xroxx': 1430, 'XuNoaz': 1431, 'Xziii': 1432, 'YA4R Appy': 1433, 'YA4R Eypu1': 1434, 'YA4R Pemburu': 1435, 'YA4R Rith': 1436, 'YA4R Vokey': 1437, 'YANKI': 1438, 'YASHÂ¹9': 1439, 'YEKTA': 1440, 'YENN': 1441, 'YG Akgtamyo': 1442, 'YG Kendo': 1443, 'YG Lord': 1444, 'YG William': 1445, 'YOSi': 1446, 'YOUSSEF1v63': 1447, 'Yahirr': 1448, 'Yatem': 1449, 'Yizz': 1450, 'YÃ\\xa0ng': 1451, 'Z1 Banyu': 1452, 'Z1 Flyk1do': 1453, 'Z1 Linixx': 1454, 'Z1 MineraaL': 1455, 'ZAKARIA': 1456, 'ZANA': 1457, 'ZANDO': 1458, 'ZAZA': 1459, 'ZERO': 1460, 'ZERYCH': 1461, 'ZEUSSS': 1462, 'ZLZAALop': 1463, 'ZODOX': 1464, 'ZOMBI': 1465, 'ZUXXY': 1466, 'ZWOLF': 1467, 'Zain': 1468, 'Zehir': 1469, 'Zenox': 1470, 'ZeroC': 1471, 'Zessy': 1472, 'Zeus': 1473, 'ZloYboY': 1474, 'bcBoyyyy': 1475, 'bcElianKidd': 1476, 'bcFernann': 1477, 'bcMadeonn': 1478, 'bcMxdeonn': 1479, 'bcReyesss': 1480, 'bcReyessss': 1481, 'beuden': 1482, 'blood': 1483, 'bronzberg': 1484, 'coyote': 1485, 'doolbor': 1486, 'eSawi': 1487, 'esgFear': 1488, 'esgKenFB': 1489, 'esgLuiss': 1490, 'esgRonaldinho': 1491, 'esgWallss': 1492, 'estAthiS': 1493, 'estBAZZZI': 1494, 'estKapahala': 1495, 'estOCTAVIANmvp': 1496, 'flaco': 1497, 'fmANUBISr3d': 1498, 'fmPIKAr3d': 1499, 'fmSHAWr3d': 1500, 'frady': 1501, 'fsBLACK': 1502, 'fsMALIK': 1503, 'fsavenger': 1504, 'fsxR3SPEKT': 1505, 'ftyCasti': 1506, 'ftyGamma': 1507, 'ftyRider': 1508, 'ftyRuloODR': 1509, 'ftySanti666': 1510, 'ftyluciferr': 1511, 'ggNext3': 1512, 'godKie': 1513, 'goldIrachetoO': 1514, 'goldMaurer': 1515, 'goldNinferum': 1516, 'goldS1mple': 1517, 'goldVersa': 1518, 'goldYessi': 1519, 'h2eASAD': 1520, 'h2eDREAD': 1521, 'h2eHAKKKR': 1522, 'h2ePAN': 1523, 'h2eREX': 1524, 'hyper': 1525, 'iD7': 1526, 'iGpaje': 1527, 'iGpeeep': 1528, 'iGpereraa': 1529, 'iGrafa': 1530, 'iGzeusboyyyy': 1531, 'iNCObecker': 1532, 'iNCOgxldeN': 1533, 'iNCOromuloziN': 1534, 'iNCOvitAli': 1535, 'iNCOvitu2k': 1536, 'iTsAbood': 1537, 'iTzHAZHA': 1538, 'iTzREVA': 1539, 'iTzRioO': 1540, 'iti': 1541, 'izuRAFbby': 1542, 'jayuyaÅ«': 1543, 'kiNz': 1544, 'kingamin': 1545, 'madAGHORI': 1546, 'madEFFECT': 1547, 'madMONKY': 1548, 'madYinYang': 1549, 'mgsADEEL': 1550, 'mgsMOMTU': 1551, 'moso': 1552, 'mzsFOLO': 1553, 'mzsLEANDRO77': 1554, 'mzsSARE': 1555, 'mzsSEBA': 1556, 'mzsTNX': 1557, 'mzsWACHO': 1558, 'neANDRES999999': 1559, 'neCHARKOOOO00z': 1560, 'neFRANKOO777': 1561, 'neJigsaw': 1562, 'neTHRZZZ777': 1563, 'neZETA44444': 1564, 'nesAHMER': 1565, 'nesAVENGERRROP': 1566, 'nesMAXI': 1567, 'nesSNOW': 1568, 'nesZAM1N': 1569, 'papi': 1570, 'potato': 1571, 'qeAadiOp': 1572, 'qeBilAl': 1573, 'qeMANiii': 1574, 'qeSardarJii': 1575, 'qrALPHAÅª': 1576, 'qrIQ': 1577, 'qrJD': 1578, 'qrSIRIUS': 1579, 'qrSPARKK': 1580, 'r3dFINISHER': 1581, 'r3dHASSAN': 1582, 'r3dRAFAYYYYY': 1583, 'salazar': 1584, 'sixgoddd': 1585, 'smkHE1SEN': 1586, 'smkHEKMANN': 1587, 'smkMATOOOS': 1588, 'smkPAPAKILL': 1589, 'smkPRODIGIO1': 1590, 'spec': 1591, 'stoALAZIN': 1592, 'stoArturziN': 1593, 'stoDadiN': 1594, 'stoDuduu': 1595, 'stoEliziNN': 1596, 'stoSEV7NN': 1597, 'tgKURAMA': 1598, 'tgMrbÅ\\x81acK': 1599, 'tgSENSII2': 1600, 'tgSHAPATAR': 1601, 'tgZIGSAW': 1602, 'theBPMGC East': 1603, 'tic': 1604, 'vnmALEboo': 1605, 'vnmDICTATÃ˜R': 1606, 'vnmRAGE2RGR': 1607, 'vnmSSRAFATTT': 1608, 'vnmSteeLShoT': 1609, 'vt3ndZzz': 1610, 'vt4cdo': 1611, 'vtFxntasy': 1612, 'vtJuannG': 1613, 'vtKxnor': 1614, 'xg420oP': 1615, 'xgJAYDEE69': 1616, 'xgPANDA': 1617, 'xgPSYCHO': 1618, 'xgTHUG': 1619, 'xgTheDoc': 1620, 'zzRoy': 1621, 'â€\\x8fAlFalluji': 1622}, 'Team': {'1218': 0, '1907 Fenerbahce Esports': 1, '1952': 2, '19esports': 3, '3x ESPORTS': 4, '4 Romanian Boys': 5, '4 Romanian Men': 6, '47 Gaming': 7, '4Bros': 8, '4Rivals': 9, '4VxTFD': 10, '5 Threats': 11, '52xRage Esports': 12, '7DeadlySins': 13, '7Sea Esports': 14, '89 E-Sport': 15, '963 Egypt': 16, '9z Team': 17, 'A1 eSports': 18, 'ALMGHTY': 19, 'ARR eSports': 20, 'ART of Battle': 21, 'AUra Esports': 22, 'Alien': 23, 'All Glory Gaming': 24, 'Alpha7 Esports': 25, 'Alter Ego LIMAX': 26, 'Angel Magical': 27, 'Angkor PUBGM': 28, 'Ar Namys': 29, 'Armed Family': 30, 'Aton Esports': 31, 'Aura Esports': 32, 'Axis RedONE': 33, 'BC Swell': 34, 'BIG': 35, 'BN United': 36, 'BNW 88': 37, 'BONAFIDE': 38, 'BOOM Esports': 39, 'Bacon Time': 40, 'BakS eSports': 41, 'Bangkrirk E-sport': 42, 'Besiktas Esports': 43, 'BeÅŸiktaÅŸ Esports': 44, 'Bigetron RA': 45, 'Black Dragons e-Sports': 46, 'Black Jack Esports': 47, 'Boring Protocol': 48, 'Box Gaming': 49, 'Brazilian Killers Gaming': 50, 'Buluc Chabtan': 51, 'Buriram United Esports': 52, 'CID Burmese': 53, 'CP9 Esports': 54, 'CT': 55, 'Clarity Esports': 56, 'Clear Vision Esports': 57, 'Clutch Guerilla': 58, 'Conqueror': 59, 'Cryptics': 60, \"D'Xavier\": 61, 'DARKNESS': 62, 'DDD Esports': 63, 'DG Esports': 64, 'DRS GAMING': 65, 'DRS Gaming': 66, 'Da Atrax Esports': 67, 'Damwon Gaming': 68, 'Dark Passage': 69, 'De Muerte': 70, 'Deadeyes Guys': 71, 'Deep Esports': 72, 'Delta Stars': 73, 'Demiral Esports': 74, 'Dewa United': 75, 'Dingoz Esports': 76, 'Dope Esports LLC': 77, 'Dunak Esports': 78, 'Dynamite Limited': 79, 'E29 Esports Gaming': 80, 'EVOS Reborn': 81, 'EVOS ViP': 82, 'Eagle Esport': 83, 'Eagle Esports': 84, 'Easy as Pie': 85, 'ElementriX': 86, 'Estorm': 87, 'Execute Esports': 88, 'F4CT Esports': 89, 'FMxR3D Esports': 90, 'FOR KURDISTAN': 91, 'FTYeSportsKodio': 92, 'FaZe Clan': 93, 'Falcons Esports': 94, 'Farang Lejund': 95, 'FenerbahÃ§e Esports': 96, 'Fire Flux Esports': 97, 'Flamengo Esports': 98, 'Fraternity': 99, 'Free Style': 100, 'Furious Gaming': 101, 'Futbolist': 102, 'G3 Temper': 103, 'GEEk Fam ID': 104, 'GENEXUS': 105, 'GMT Esports': 106, 'GOAT Media': 107, 'GPX': 108, 'Galatasaray Esports': 109, 'Game-Lord': 110, 'GameBedeL Esports': 111, 'Geek Fam': 112, 'Geek Fam ID': 113, 'Genesis Dogma GIDS': 114, 'Genesis Esports': 115, 'Genexus': 116, 'Getso Esports': 117, 'Ghost Gaming': 118, 'Giants': 119, 'GodLike Esports': 120, 'Golden Eagles Esports': 121, 'GoodGuys': 122, 'Ground Zero Mercenaries': 123, 'HAIL Esports': 124, 'HAIL Esports TH': 125, 'HTV Esports': 126, 'HYDRA': 127, 'HeadQuarters': 128, 'Helping Quit Addiction': 129, 'Hero Gaming': 130, 'High Voltage': 131, 'HomeBois': 132, 'Homebois': 133, 'Honored Souls': 134, 'IHC ESPORTS': 135, 'INCO Gaming': 136, 'INFLUENCE RAGE': 137, 'INTENSE GAME': 138, 'INTRUDER': 139, 'INTZ': 140, 'ION Esport': 141, 'Infinity': 142, 'Isurus': 143, 'JoinMe Esports': 144, 'JyanMaara': 145, 'K19 Esports NA': 146, 'KAMIKAZE': 147, 'KDV eSports': 148, 'KHI Esports': 149, 'KURD12': 150, 'Kafalar Esports': 151, 'Kaos Next Ruya': 152, 'Kaos Next RÃ¼ya': 153, 'Keyd Stars': 154, 'Kidsquad Overpower': 155, 'King of Gamers Club': 156, 'Knights': 157, 'Konina Power': 158, 'LIT Esports': 159, 'LIT old player': 160, 'Lazarus': 161, 'Like Glue': 162, 'Like Glue Gaming': 163, 'Loops Esports': 164, 'Lusail Esports': 165, 'MAB Esports': 166, 'MASTERS ESPORTS': 167, 'MS Chonburi': 168, 'Mad Night': 169, 'MadBulls': 170, 'Made in Vietnam': 171, 'Magic Esport': 172, 'Magnet': 173, 'Magnus Esports': 174, 'Major Pride': 175, 'Marjin Esports': 176, 'MetershotxSKY Esports': 177, 'Mezexis Dreams': 178, 'Mezexis eSports NA': 179, 'NASR Esports': 180, 'NFT Esports': 181, 'Natus Vincere': 182, 'Never Down': 183, 'Next Level': 184, 'Nigma Galaxy': 185, 'Ninety 9 Percent E-Sport': 186, 'Noobs Esports': 187, 'North Esports': 188, 'Nova Esports': 189, 'Nova Esports NA': 190, 'ONE MILLION ESPORTS': 191, 'ONIC Esports': 192, 'OneMore': 193, 'Onyx Esport': 194, 'PAX DEORUM': 195, 'PENTA': 196, 'PMGC Eastern Stars': 197, 'Phantom Esports': 198, 'Phoenix Esports': 199, 'Pirate Esport': 200, 'Polar Ace': 201, 'Quantum Rage': 202, 'Quick Revenge': 203, 'Quraysh Esports': 204, 'R2K': 205, 'R3GICIDE': 206, 'RAW Esports': 207, 'RRQ RYU': 208, 'RSG': 209, 'RTG Esports': 210, 'Rats Esport': 211, 'Real Tigerâ€™s 9 UK': 212, 'Regnum Carya Esports': 213, 'Reject': 214, 'ResQ Esports': 215, 'Revolution': 216, 'Rico Infinity Esports': 217, 'Rico Infinity Team': 218, 'Rise': 219, 'Rise Esports': 220, 'Royals of War': 221, 'S2G Esports': 222, 'SALTxi8 Esports': 223, 'SAVAGE eSPORTS': 224, 'SEAL ESPORTS': 225, 'SEM9': 226, 'SHOX Esports': 227, 'SLIME 4KT': 228, 'SLY Machine': 229, 'SWAT69 AF': 230, 'SWAT69 EU': 231, 'SYR ESPORTS': 232, 'SharpeR Esport': 233, 'Shockwave': 234, 'Six Two Eight': 235, 'Skylightz Gaming': 236, 'Skylightz Gaming Reverse Blue': 237, 'Smoke E-Sports': 238, 'Stalwart Esports': 239, 'Stelacy Esports': 240, 'Storm Gaming': 241, 'Super Young Stars': 242, 'SuperMassive Blaze': 243, 'Surreal Esports': 244, 'TABAH NSEA': 245, 'TEAM STAR': 246, 'TEAM UNIQUE': 247, 'TEM Entertainment': 248, 'TEs Esports': 249, 'TJB ESPORTS': 250, 'TJB Esports EU': 251, 'TRIPLE ESPORTS': 252, 'TRZ Esports': 253, 'Talent Allstars': 254, 'Talent Esports': 255, 'Team BTOWN': 256, 'Team Bosskurr': 257, 'Team Doom': 258, 'Team Flash': 259, 'Team H2e': 260, 'Team HAQ': 261, 'Team Jaguar': 262, 'Team MAX Arctic': 263, 'Team Myths': 264, 'Team QWERTY': 265, 'Team Queso': 266, \"Team RA'AD\": 267, 'Team Raid': 268, 'Team SMG': 269, 'Team Seal-ESB': 270, 'Team Secret': 271, 'Team TUF': 272, 'Team Umbra': 273, 'Team Unique': 274, 'The Chosen NA': 275, 'The Grounders': 276, 'The Hitlist': 277, 'The Infinity': 278, 'The Matrix': 279, 'The Mind Weapon': 280, 'The Panthers': 281, 'Thousand One MM': 282, 'Titan Gaming': 283, 'TmwEsports': 284, 'Tong Jia Bao Esports': 285, 'Trained to Kill': 286, 'Twisted Minds': 287, 'Unicorns of Love': 288, 'V Gaming': 289, 'VAMOS eSports': 290, 'VIBES Esports': 291, 'VICTIM 365': 292, 'VOIN VICTORY': 293, 'VOin Esports': 294, 'Valdus Esports': 295, 'Vamp': 296, 'Vampire Esports': 297, 'Venom Legends': 298, 'Ventrue Inc.': 299, 'Virtual Game': 300, 'Virtus.pro': 301, 'Vista Gaming': 302, 'Voin Esports': 303, 'WallStreetBets': 304, 'What A Squad': 305, 'XGeneration': 306, 'XSET': 307, 'XTEAM': 308, 'Xavier SSRU': 309, 'YONKOUS': 310, 'Yalla Esports': 311, 'Yangon Galacticos': 312, 'Yoodo Alliance x 4Rivals': 313, 'Zero Tolerance Skills': 314, 'Zero Zone': 315, 'Zone Esports': 316, 'Ä°stanbul Wildcats': 317, 'Åžahangiller': 318}, 'Region ': {'Africa': 0, 'Arabian': 1, 'Asia Pasific': 2, 'Brazil': 3, 'CIS': 4, 'Indonesia': 5, 'Latam': 6, 'Malaysia': 7, 'North America': 8, 'PMGC East': 9, 'PMGC West': 10, 'Pakistan': 11, 'Sea Play-in': 12, 'South Asia': 13, 'Thailand': 14, 'Turkey': 15, 'Vietnam': 16, 'Western Europe': 17}, 'Week': {'Final': 0, 'Super Weekend 1': 1, 'Super Weekend 2': 2, 'Super Weekend 3': 3, 'Weekday 1': 4, 'Weekday 2': 5, 'Weekday 3': 6}, 'Day': {'five': 0, 'four': 1, 'one': 2, 'three': 3, 'two': 4}}\n"
          ]
        }
      ],
      "source": [
        "from sklearn import preprocessing\n",
        "category_col = [i for i in df.columns if df[i].dtypes == 'O']\n",
        "labelEncoder = preprocessing.LabelEncoder()\n",
        "\n",
        "mapping_dict ={}\n",
        "for col in category_col:\n",
        " df[col] = labelEncoder.fit_transform(df[col])\n",
        "\n",
        " le_name_mapping = dict(zip(labelEncoder.classes_,\n",
        "\n",
        "labelEncoder.transform(labelEncoder.classes_)))\n",
        "\n",
        " mapping_dict[col]= le_name_mapping\n",
        "print(mapping_dict)"
      ]
    },
    {
      "cell_type": "code",
      "execution_count": null,
      "metadata": {
        "colab": {
          "base_uri": "https://localhost:8080/",
          "height": 488
        },
        "id": "FGlnf8pQF-tz",
        "outputId": "01a2df13-2574-4296-b9d8-8a685c011ee5"
      },
      "outputs": [
        {
          "output_type": "execute_result",
          "data": {
            "text/plain": [
              "       Name  Team  Match  WWCD  Elims  Placement  Survive_Time  \\\n",
              "0       886   185      5     0     17         37          6817   \n",
              "1       901   189      5     1     10         36          5848   \n",
              "2       884   185      5     0      7         37          7091   \n",
              "3       902   189      5     1      7         36          5987   \n",
              "4       898   189      5     1      6         36          6029   \n",
              "...     ...   ...    ...   ...    ...        ...           ...   \n",
              "21546  1040   209      2     0      0          6          1767   \n",
              "21547   817   176      3     0      1          3          3536   \n",
              "21548  1252   255      5     0      1          3          3089   \n",
              "21549   590   133      2     0      0          2          1841   \n",
              "21550   487    93      1     0      0          1          1099   \n",
              "\n",
              "       Max_elim_range  In_Damage  Heal  Headshot  Drive_distance  Death  \\\n",
              "0                 118       1020   790         5           29154      5   \n",
              "1                 221       1031   353         4           12061      5   \n",
              "2                 174       1308  1086         1           26932      5   \n",
              "3                  69       1579   754         1           15950      5   \n",
              "4                   0        928   400         1           18666      4   \n",
              "...               ...        ...   ...       ...             ...    ...   \n",
              "21546               0        357    60         0            9705      2   \n",
              "21547               0        313  1519         0           11684      3   \n",
              "21548               0        700   149         0            7108      5   \n",
              "21549               0        306   254         0            7514      2   \n",
              "21550               0        235   135         0           11636      1   \n",
              "\n",
              "       Damage  Assist  Air_drop  Moving_distance  Region   Week  Day  \n",
              "0        2531       1         0            41193        9     4    2  \n",
              "1        1395       6         3            24898        9     4    2  \n",
              "2        1047       3         0            39540        9     4    2  \n",
              "3        2047       7         0            26788        9     4    2  \n",
              "4        1181       3         0            30110        9     4    2  \n",
              "...       ...     ...       ...              ...      ...   ...  ...  \n",
              "21546      91       0         0            13515       12     0    2  \n",
              "21547     445       2         0            20108       12     0    2  \n",
              "21548     446       2         0            13953       12     0    2  \n",
              "21549     224       0         0            11760       12     0    2  \n",
              "21550       0       0         0            12957       12     0    2  \n",
              "\n",
              "[21551 rows x 20 columns]"
            ],
            "text/html": [
              "\n",
              "  <div id=\"df-e1dcf9b7-a1ce-481d-9830-9daf69889a87\">\n",
              "    <div class=\"colab-df-container\">\n",
              "      <div>\n",
              "<style scoped>\n",
              "    .dataframe tbody tr th:only-of-type {\n",
              "        vertical-align: middle;\n",
              "    }\n",
              "\n",
              "    .dataframe tbody tr th {\n",
              "        vertical-align: top;\n",
              "    }\n",
              "\n",
              "    .dataframe thead th {\n",
              "        text-align: right;\n",
              "    }\n",
              "</style>\n",
              "<table border=\"1\" class=\"dataframe\">\n",
              "  <thead>\n",
              "    <tr style=\"text-align: right;\">\n",
              "      <th></th>\n",
              "      <th>Name</th>\n",
              "      <th>Team</th>\n",
              "      <th>Match</th>\n",
              "      <th>WWCD</th>\n",
              "      <th>Elims</th>\n",
              "      <th>Placement</th>\n",
              "      <th>Survive_Time</th>\n",
              "      <th>Max_elim_range</th>\n",
              "      <th>In_Damage</th>\n",
              "      <th>Heal</th>\n",
              "      <th>Headshot</th>\n",
              "      <th>Drive_distance</th>\n",
              "      <th>Death</th>\n",
              "      <th>Damage</th>\n",
              "      <th>Assist</th>\n",
              "      <th>Air_drop</th>\n",
              "      <th>Moving_distance</th>\n",
              "      <th>Region</th>\n",
              "      <th>Week</th>\n",
              "      <th>Day</th>\n",
              "    </tr>\n",
              "  </thead>\n",
              "  <tbody>\n",
              "    <tr>\n",
              "      <th>0</th>\n",
              "      <td>886</td>\n",
              "      <td>185</td>\n",
              "      <td>5</td>\n",
              "      <td>0</td>\n",
              "      <td>17</td>\n",
              "      <td>37</td>\n",
              "      <td>6817</td>\n",
              "      <td>118</td>\n",
              "      <td>1020</td>\n",
              "      <td>790</td>\n",
              "      <td>5</td>\n",
              "      <td>29154</td>\n",
              "      <td>5</td>\n",
              "      <td>2531</td>\n",
              "      <td>1</td>\n",
              "      <td>0</td>\n",
              "      <td>41193</td>\n",
              "      <td>9</td>\n",
              "      <td>4</td>\n",
              "      <td>2</td>\n",
              "    </tr>\n",
              "    <tr>\n",
              "      <th>1</th>\n",
              "      <td>901</td>\n",
              "      <td>189</td>\n",
              "      <td>5</td>\n",
              "      <td>1</td>\n",
              "      <td>10</td>\n",
              "      <td>36</td>\n",
              "      <td>5848</td>\n",
              "      <td>221</td>\n",
              "      <td>1031</td>\n",
              "      <td>353</td>\n",
              "      <td>4</td>\n",
              "      <td>12061</td>\n",
              "      <td>5</td>\n",
              "      <td>1395</td>\n",
              "      <td>6</td>\n",
              "      <td>3</td>\n",
              "      <td>24898</td>\n",
              "      <td>9</td>\n",
              "      <td>4</td>\n",
              "      <td>2</td>\n",
              "    </tr>\n",
              "    <tr>\n",
              "      <th>2</th>\n",
              "      <td>884</td>\n",
              "      <td>185</td>\n",
              "      <td>5</td>\n",
              "      <td>0</td>\n",
              "      <td>7</td>\n",
              "      <td>37</td>\n",
              "      <td>7091</td>\n",
              "      <td>174</td>\n",
              "      <td>1308</td>\n",
              "      <td>1086</td>\n",
              "      <td>1</td>\n",
              "      <td>26932</td>\n",
              "      <td>5</td>\n",
              "      <td>1047</td>\n",
              "      <td>3</td>\n",
              "      <td>0</td>\n",
              "      <td>39540</td>\n",
              "      <td>9</td>\n",
              "      <td>4</td>\n",
              "      <td>2</td>\n",
              "    </tr>\n",
              "    <tr>\n",
              "      <th>3</th>\n",
              "      <td>902</td>\n",
              "      <td>189</td>\n",
              "      <td>5</td>\n",
              "      <td>1</td>\n",
              "      <td>7</td>\n",
              "      <td>36</td>\n",
              "      <td>5987</td>\n",
              "      <td>69</td>\n",
              "      <td>1579</td>\n",
              "      <td>754</td>\n",
              "      <td>1</td>\n",
              "      <td>15950</td>\n",
              "      <td>5</td>\n",
              "      <td>2047</td>\n",
              "      <td>7</td>\n",
              "      <td>0</td>\n",
              "      <td>26788</td>\n",
              "      <td>9</td>\n",
              "      <td>4</td>\n",
              "      <td>2</td>\n",
              "    </tr>\n",
              "    <tr>\n",
              "      <th>4</th>\n",
              "      <td>898</td>\n",
              "      <td>189</td>\n",
              "      <td>5</td>\n",
              "      <td>1</td>\n",
              "      <td>6</td>\n",
              "      <td>36</td>\n",
              "      <td>6029</td>\n",
              "      <td>0</td>\n",
              "      <td>928</td>\n",
              "      <td>400</td>\n",
              "      <td>1</td>\n",
              "      <td>18666</td>\n",
              "      <td>4</td>\n",
              "      <td>1181</td>\n",
              "      <td>3</td>\n",
              "      <td>0</td>\n",
              "      <td>30110</td>\n",
              "      <td>9</td>\n",
              "      <td>4</td>\n",
              "      <td>2</td>\n",
              "    </tr>\n",
              "    <tr>\n",
              "      <th>...</th>\n",
              "      <td>...</td>\n",
              "      <td>...</td>\n",
              "      <td>...</td>\n",
              "      <td>...</td>\n",
              "      <td>...</td>\n",
              "      <td>...</td>\n",
              "      <td>...</td>\n",
              "      <td>...</td>\n",
              "      <td>...</td>\n",
              "      <td>...</td>\n",
              "      <td>...</td>\n",
              "      <td>...</td>\n",
              "      <td>...</td>\n",
              "      <td>...</td>\n",
              "      <td>...</td>\n",
              "      <td>...</td>\n",
              "      <td>...</td>\n",
              "      <td>...</td>\n",
              "      <td>...</td>\n",
              "      <td>...</td>\n",
              "    </tr>\n",
              "    <tr>\n",
              "      <th>21546</th>\n",
              "      <td>1040</td>\n",
              "      <td>209</td>\n",
              "      <td>2</td>\n",
              "      <td>0</td>\n",
              "      <td>0</td>\n",
              "      <td>6</td>\n",
              "      <td>1767</td>\n",
              "      <td>0</td>\n",
              "      <td>357</td>\n",
              "      <td>60</td>\n",
              "      <td>0</td>\n",
              "      <td>9705</td>\n",
              "      <td>2</td>\n",
              "      <td>91</td>\n",
              "      <td>0</td>\n",
              "      <td>0</td>\n",
              "      <td>13515</td>\n",
              "      <td>12</td>\n",
              "      <td>0</td>\n",
              "      <td>2</td>\n",
              "    </tr>\n",
              "    <tr>\n",
              "      <th>21547</th>\n",
              "      <td>817</td>\n",
              "      <td>176</td>\n",
              "      <td>3</td>\n",
              "      <td>0</td>\n",
              "      <td>1</td>\n",
              "      <td>3</td>\n",
              "      <td>3536</td>\n",
              "      <td>0</td>\n",
              "      <td>313</td>\n",
              "      <td>1519</td>\n",
              "      <td>0</td>\n",
              "      <td>11684</td>\n",
              "      <td>3</td>\n",
              "      <td>445</td>\n",
              "      <td>2</td>\n",
              "      <td>0</td>\n",
              "      <td>20108</td>\n",
              "      <td>12</td>\n",
              "      <td>0</td>\n",
              "      <td>2</td>\n",
              "    </tr>\n",
              "    <tr>\n",
              "      <th>21548</th>\n",
              "      <td>1252</td>\n",
              "      <td>255</td>\n",
              "      <td>5</td>\n",
              "      <td>0</td>\n",
              "      <td>1</td>\n",
              "      <td>3</td>\n",
              "      <td>3089</td>\n",
              "      <td>0</td>\n",
              "      <td>700</td>\n",
              "      <td>149</td>\n",
              "      <td>0</td>\n",
              "      <td>7108</td>\n",
              "      <td>5</td>\n",
              "      <td>446</td>\n",
              "      <td>2</td>\n",
              "      <td>0</td>\n",
              "      <td>13953</td>\n",
              "      <td>12</td>\n",
              "      <td>0</td>\n",
              "      <td>2</td>\n",
              "    </tr>\n",
              "    <tr>\n",
              "      <th>21549</th>\n",
              "      <td>590</td>\n",
              "      <td>133</td>\n",
              "      <td>2</td>\n",
              "      <td>0</td>\n",
              "      <td>0</td>\n",
              "      <td>2</td>\n",
              "      <td>1841</td>\n",
              "      <td>0</td>\n",
              "      <td>306</td>\n",
              "      <td>254</td>\n",
              "      <td>0</td>\n",
              "      <td>7514</td>\n",
              "      <td>2</td>\n",
              "      <td>224</td>\n",
              "      <td>0</td>\n",
              "      <td>0</td>\n",
              "      <td>11760</td>\n",
              "      <td>12</td>\n",
              "      <td>0</td>\n",
              "      <td>2</td>\n",
              "    </tr>\n",
              "    <tr>\n",
              "      <th>21550</th>\n",
              "      <td>487</td>\n",
              "      <td>93</td>\n",
              "      <td>1</td>\n",
              "      <td>0</td>\n",
              "      <td>0</td>\n",
              "      <td>1</td>\n",
              "      <td>1099</td>\n",
              "      <td>0</td>\n",
              "      <td>235</td>\n",
              "      <td>135</td>\n",
              "      <td>0</td>\n",
              "      <td>11636</td>\n",
              "      <td>1</td>\n",
              "      <td>0</td>\n",
              "      <td>0</td>\n",
              "      <td>0</td>\n",
              "      <td>12957</td>\n",
              "      <td>12</td>\n",
              "      <td>0</td>\n",
              "      <td>2</td>\n",
              "    </tr>\n",
              "  </tbody>\n",
              "</table>\n",
              "<p>21551 rows × 20 columns</p>\n",
              "</div>\n",
              "      <button class=\"colab-df-convert\" onclick=\"convertToInteractive('df-e1dcf9b7-a1ce-481d-9830-9daf69889a87')\"\n",
              "              title=\"Convert this dataframe to an interactive table.\"\n",
              "              style=\"display:none;\">\n",
              "        \n",
              "  <svg xmlns=\"http://www.w3.org/2000/svg\" height=\"24px\"viewBox=\"0 0 24 24\"\n",
              "       width=\"24px\">\n",
              "    <path d=\"M0 0h24v24H0V0z\" fill=\"none\"/>\n",
              "    <path d=\"M18.56 5.44l.94 2.06.94-2.06 2.06-.94-2.06-.94-.94-2.06-.94 2.06-2.06.94zm-11 1L8.5 8.5l.94-2.06 2.06-.94-2.06-.94L8.5 2.5l-.94 2.06-2.06.94zm10 10l.94 2.06.94-2.06 2.06-.94-2.06-.94-.94-2.06-.94 2.06-2.06.94z\"/><path d=\"M17.41 7.96l-1.37-1.37c-.4-.4-.92-.59-1.43-.59-.52 0-1.04.2-1.43.59L10.3 9.45l-7.72 7.72c-.78.78-.78 2.05 0 2.83L4 21.41c.39.39.9.59 1.41.59.51 0 1.02-.2 1.41-.59l7.78-7.78 2.81-2.81c.8-.78.8-2.07 0-2.86zM5.41 20L4 18.59l7.72-7.72 1.47 1.35L5.41 20z\"/>\n",
              "  </svg>\n",
              "      </button>\n",
              "      \n",
              "  <style>\n",
              "    .colab-df-container {\n",
              "      display:flex;\n",
              "      flex-wrap:wrap;\n",
              "      gap: 12px;\n",
              "    }\n",
              "\n",
              "    .colab-df-convert {\n",
              "      background-color: #E8F0FE;\n",
              "      border: none;\n",
              "      border-radius: 50%;\n",
              "      cursor: pointer;\n",
              "      display: none;\n",
              "      fill: #1967D2;\n",
              "      height: 32px;\n",
              "      padding: 0 0 0 0;\n",
              "      width: 32px;\n",
              "    }\n",
              "\n",
              "    .colab-df-convert:hover {\n",
              "      background-color: #E2EBFA;\n",
              "      box-shadow: 0px 1px 2px rgba(60, 64, 67, 0.3), 0px 1px 3px 1px rgba(60, 64, 67, 0.15);\n",
              "      fill: #174EA6;\n",
              "    }\n",
              "\n",
              "    [theme=dark] .colab-df-convert {\n",
              "      background-color: #3B4455;\n",
              "      fill: #D2E3FC;\n",
              "    }\n",
              "\n",
              "    [theme=dark] .colab-df-convert:hover {\n",
              "      background-color: #434B5C;\n",
              "      box-shadow: 0px 1px 3px 1px rgba(0, 0, 0, 0.15);\n",
              "      filter: drop-shadow(0px 1px 2px rgba(0, 0, 0, 0.3));\n",
              "      fill: #FFFFFF;\n",
              "    }\n",
              "  </style>\n",
              "\n",
              "      <script>\n",
              "        const buttonEl =\n",
              "          document.querySelector('#df-e1dcf9b7-a1ce-481d-9830-9daf69889a87 button.colab-df-convert');\n",
              "        buttonEl.style.display =\n",
              "          google.colab.kernel.accessAllowed ? 'block' : 'none';\n",
              "\n",
              "        async function convertToInteractive(key) {\n",
              "          const element = document.querySelector('#df-e1dcf9b7-a1ce-481d-9830-9daf69889a87');\n",
              "          const dataTable =\n",
              "            await google.colab.kernel.invokeFunction('convertToInteractive',\n",
              "                                                     [key], {});\n",
              "          if (!dataTable) return;\n",
              "\n",
              "          const docLinkHtml = 'Like what you see? Visit the ' +\n",
              "            '<a target=\"_blank\" href=https://colab.research.google.com/notebooks/data_table.ipynb>data table notebook</a>'\n",
              "            + ' to learn more about interactive tables.';\n",
              "          element.innerHTML = '';\n",
              "          dataTable['output_type'] = 'display_data';\n",
              "          await google.colab.output.renderOutput(dataTable, element);\n",
              "          const docLink = document.createElement('div');\n",
              "          docLink.innerHTML = docLinkHtml;\n",
              "          element.appendChild(docLink);\n",
              "        }\n",
              "      </script>\n",
              "    </div>\n",
              "  </div>\n",
              "  "
            ]
          },
          "metadata": {},
          "execution_count": 5
        }
      ],
      "source": [
        "df"
      ]
    },
    {
      "cell_type": "code",
      "execution_count": null,
      "metadata": {
        "colab": {
          "base_uri": "https://localhost:8080/"
        },
        "id": "AHPPW0nnKMoY",
        "outputId": "458debe8-c3ea-4b3a-ed8b-9e571417136b"
      },
      "outputs": [
        {
          "output_type": "stream",
          "name": "stdout",
          "text": [
            "<class 'pandas.core.frame.DataFrame'>\n",
            "RangeIndex: 21551 entries, 0 to 21550\n",
            "Data columns (total 20 columns):\n",
            " #   Column           Non-Null Count  Dtype\n",
            "---  ------           --------------  -----\n",
            " 0   Name             21551 non-null  int64\n",
            " 1   Team             21551 non-null  int64\n",
            " 2   Match            21551 non-null  int64\n",
            " 3   WWCD             21551 non-null  int64\n",
            " 4   Elims            21551 non-null  int64\n",
            " 5   Placement        21551 non-null  int64\n",
            " 6   Survive_Time     21551 non-null  int64\n",
            " 7   Max_elim_range   21551 non-null  int64\n",
            " 8   In_Damage        21551 non-null  int64\n",
            " 9   Heal             21551 non-null  int64\n",
            " 10  Headshot         21551 non-null  int64\n",
            " 11  Drive_distance   21551 non-null  int64\n",
            " 12  Death            21551 non-null  int64\n",
            " 13  Damage           21551 non-null  int64\n",
            " 14  Assist           21551 non-null  int64\n",
            " 15  Air_drop         21551 non-null  int64\n",
            " 16  Moving_distance  21551 non-null  int64\n",
            " 17  Region           21551 non-null  int64\n",
            " 18  Week             21551 non-null  int64\n",
            " 19  Day              21551 non-null  int64\n",
            "dtypes: int64(20)\n",
            "memory usage: 3.3 MB\n"
          ]
        }
      ],
      "source": [
        "df.info()"
      ]
    },
    {
      "cell_type": "code",
      "execution_count": null,
      "metadata": {
        "id": "jnplJSX-IEMF"
      },
      "outputs": [],
      "source": [
        "X = df.drop(['Survive_Time'],axis = 1)\n",
        "y = df['Survive_Time']"
      ]
    },
    {
      "cell_type": "code",
      "execution_count": null,
      "metadata": {
        "colab": {
          "base_uri": "https://localhost:8080/"
        },
        "id": "jO0CMRw3IGiZ",
        "outputId": "3854adcc-0d1f-4ad5-ea50-0eb69a22db5e"
      },
      "outputs": [
        {
          "output_type": "stream",
          "name": "stdout",
          "text": [
            "Jumlah X train: (17240, 19)\n",
            "Jumlah Y train: (17240,)\n",
            "Jumlah X Test: (4311, 19)\n",
            "Jumlah Y test: (4311,)\n"
          ]
        }
      ],
      "source": [
        "x_train,x_test,y_train,y_test= train_test_split(X,y,test_size=0.2,random_state = 0)\n",
        "print('Jumlah X train:', x_train.shape)\n",
        "print('Jumlah Y train:', y_train.shape)\n",
        "print('Jumlah X Test:', x_test.shape)\n",
        "print('Jumlah Y test:', y_test.shape)"
      ]
    },
    {
      "cell_type": "markdown",
      "source": [
        "## Decision Tree"
      ],
      "metadata": {
        "id": "t7p3_0hnwNy8"
      }
    },
    {
      "cell_type": "code",
      "execution_count": null,
      "metadata": {
        "id": "Dz2VoOOvFK4m"
      },
      "outputs": [],
      "source": [
        "dc = DecisionTreeRegressor()\n",
        "model1 = dc.fit(x_train,y_train)\n",
        "pred1 = model1.predict(x_test)\n",
        "res1 = y_test - pred1"
      ]
    },
    {
      "cell_type": "code",
      "execution_count": null,
      "metadata": {
        "colab": {
          "base_uri": "https://localhost:8080/"
        },
        "id": "NqOFn6fdFK4m",
        "outputId": "63ff510f-5a8b-4f9a-ccd7-abfe8e785e11",
        "scrolled": true
      },
      "outputs": [
        {
          "output_type": "stream",
          "name": "stdout",
          "text": [
            "RMSE:599.39\n",
            "R square: 0.80\n",
            "RMSE on train data: 1.00\n"
          ]
        }
      ],
      "source": [
        "from sklearn.metrics import mean_squared_error\n",
        "rmse = np.sqrt(mean_squared_error(y_test, pred1))\n",
        "print('RMSE:{}'.format(np.round(rmse,2)))\n",
        "print('R square: %.2f' % r2_score(y_test,pred1))\n",
        "print('RMSE on train data: %.2f' % model1.score(x_train,y_train))\n"
      ]
    },
    {
      "cell_type": "markdown",
      "source": [
        "## Random Forest"
      ],
      "metadata": {
        "id": "BMGPlD96wK0B"
      }
    },
    {
      "cell_type": "code",
      "execution_count": null,
      "metadata": {
        "id": "jWwUjV7kFK4n"
      },
      "outputs": [],
      "source": [
        "rf = RandomForestRegressor()\n",
        "model2 = rf.fit(x_train,y_train)\n",
        "pred2 = model2.predict(x_test)\n",
        "res2 = y_test - pred2"
      ]
    },
    {
      "cell_type": "code",
      "execution_count": null,
      "metadata": {
        "colab": {
          "base_uri": "https://localhost:8080/"
        },
        "id": "3nGx-bOSFK4o",
        "outputId": "dc2ab32f-0ecb-443f-cfa5-de15bd932baa"
      },
      "outputs": [
        {
          "output_type": "stream",
          "name": "stdout",
          "text": [
            "RMSE:417.05\n",
            "R square: 0.903\n",
            "RMSE on train data: 0.99\n"
          ]
        }
      ],
      "source": [
        "rmse2 = np.sqrt(mean_squared_error(y_test, pred2))\n",
        "print('RMSE:{}'.format(np.round(rmse2,2)))\n",
        "print('R square: %.3f' % r2_score(y_test,pred2))\n",
        "print('RMSE on train data: %.2f' % model2.score(x_train,y_train))\n"
      ]
    },
    {
      "cell_type": "code",
      "source": [
        "def mean_absolute_percentage_error(y_test, pred2): \n",
        "  y_true, y_pred = np.array(y_test), np.array(pred2) \n",
        "  return np.mean(np.abs((y_test - pred2) / y_test)) * 100 \n",
        "print (100 - mean_absolute_percentage_error(y_test, pred2))"
      ],
      "metadata": {
        "colab": {
          "base_uri": "https://localhost:8080/"
        },
        "id": "Zc0xWrKKEsvY",
        "outputId": "015177eb-be0c-45bb-caba-f7dcee0d6e76"
      },
      "execution_count": null,
      "outputs": [
        {
          "output_type": "stream",
          "name": "stdout",
          "text": [
            "-inf\n"
          ]
        }
      ]
    },
    {
      "cell_type": "markdown",
      "source": [
        "## XG Boost"
      ],
      "metadata": {
        "id": "OOQG863gwENQ"
      }
    },
    {
      "cell_type": "code",
      "execution_count": null,
      "metadata": {
        "colab": {
          "base_uri": "https://localhost:8080/"
        },
        "id": "GOoiBIPzFK4p",
        "outputId": "40125e45-25c8-469e-a878-cfc0d5736d92"
      },
      "outputs": [
        {
          "output_type": "stream",
          "name": "stdout",
          "text": [
            "[07:51:13] WARNING: /workspace/src/objective/regression_obj.cu:152: reg:linear is now deprecated in favor of reg:squarederror.\n"
          ]
        }
      ],
      "source": [
        "xgb = XGBRFRegressor()\n",
        "model3 = xgb.fit(x_train,y_train)\n",
        "pred3 = model3.predict(x_test)\n",
        "res3 = y_test - pred3"
      ]
    },
    {
      "cell_type": "code",
      "execution_count": null,
      "metadata": {
        "colab": {
          "base_uri": "https://localhost:8080/"
        },
        "id": "lPu6_uh9FK4p",
        "outputId": "36d6e938-18a3-4d90-a8f1-5535636955e9"
      },
      "outputs": [
        {
          "output_type": "stream",
          "name": "stdout",
          "text": [
            "RMSE:640.23\n",
            "R square: 0.771\n",
            "RMSE on train data: 0.77\n"
          ]
        }
      ],
      "source": [
        "rmse3 = np.sqrt(mean_squared_error(y_test, pred3))\n",
        "print('RMSE:{}'.format(np.round(rmse3,2)))\n",
        "print('R square: %.3f' % r2_score(y_test,pred3))\n",
        "print('RMSE on train data: %.2f' % model3.score(x_train,y_train))"
      ]
    },
    {
      "cell_type": "markdown",
      "source": [
        "## KNN"
      ],
      "metadata": {
        "id": "gC95xMzfwA9Y"
      }
    },
    {
      "cell_type": "code",
      "execution_count": null,
      "metadata": {
        "id": "-mGbfS-lFK4q"
      },
      "outputs": [],
      "source": [
        "knn = KNeighborsRegressor ()\n",
        "model4 = knn.fit(x_train,y_train)\n",
        "pred4 = model4.predict(x_test)\n",
        "res4 = y_test - pred4"
      ]
    },
    {
      "cell_type": "code",
      "execution_count": null,
      "metadata": {
        "colab": {
          "base_uri": "https://localhost:8080/"
        },
        "id": "WHGTqQ1HFK4r",
        "outputId": "eb523a7b-d8bb-41c7-b930-1a55f9833af5"
      },
      "outputs": [
        {
          "output_type": "stream",
          "name": "stdout",
          "text": [
            "RMSE:487.08\n",
            "R square: 0.867\n",
            "RMSE on train data: 0.91\n"
          ]
        }
      ],
      "source": [
        "rmse4 = np.sqrt(mean_squared_error(y_test, pred4))\n",
        "print('RMSE:{}'.format(np.round(rmse4,2)))\n",
        "print('R square: %.3f' % r2_score(y_test,pred4))\n",
        "print('RMSE on train data: %.2f' % model4.score(x_train,y_train))"
      ]
    },
    {
      "cell_type": "markdown",
      "metadata": {
        "id": "nej2t__CFK4r"
      },
      "source": [
        "# Tuning Hyperparameter"
      ]
    },
    {
      "cell_type": "code",
      "execution_count": null,
      "metadata": {
        "colab": {
          "base_uri": "https://localhost:8080/"
        },
        "id": "1Uhdedp3FK4r",
        "outputId": "d23101ec-253b-461d-e4b2-f08cf1d4154b"
      },
      "outputs": [
        {
          "output_type": "execute_result",
          "data": {
            "text/plain": [
              "RandomizedSearchCV(cv=10, estimator=RandomForestRegressor(),\n",
              "                   param_distributions={'min_samples_leaf': [3, 4, 5, 6, 7],\n",
              "                                        'n_estimators': [2, 21, 41, 61, 81, 101,\n",
              "                                                         120, 140, 160, 180,\n",
              "                                                         200]})"
            ]
          },
          "metadata": {},
          "execution_count": 35
        }
      ],
      "source": [
        "param_rand = {\n",
        "    'min_samples_leaf': [3, 4, 5, 6, 7],\n",
        "    'n_estimators': [int(x) for x in np.linspace(2, 200,num = 11)]}\n",
        "\n",
        "random_src = RandomizedSearchCV(model2, param_rand, cv = 10)\n",
        "random_src.fit(x_train, y_train)"
      ]
    },
    {
      "cell_type": "code",
      "execution_count": null,
      "metadata": {
        "colab": {
          "base_uri": "https://localhost:8080/"
        },
        "outputId": "0fb7700b-7219-49e3-a133-90443e6c7a52",
        "id": "-2jg3NL0XhWy"
      },
      "outputs": [
        {
          "data": {
            "text/plain": [
              "{'n_estimators': 140, 'min_samples_leaf': 4}"
            ]
          },
          "execution_count": 67,
          "metadata": {},
          "output_type": "execute_result"
        }
      ],
      "source": [
        "random_src.best_params_"
      ]
    },
    {
      "cell_type": "markdown",
      "metadata": {
        "id": "NJaQshWcFK4t"
      },
      "source": [
        "## Model Random Forest With Best Model\n"
      ]
    },
    {
      "cell_type": "code",
      "execution_count": null,
      "metadata": {
        "id": "CdJO8MEvLzWW"
      },
      "outputs": [],
      "source": [
        "rf_rs = RandomForestRegressor(n_estimators = 140,\n",
        "                              min_samples_leaf = 4)"
      ]
    },
    {
      "cell_type": "code",
      "execution_count": null,
      "metadata": {
        "id": "A_U_EeEwL65f"
      },
      "outputs": [],
      "source": [
        "mod = rf_rs.fit(x_train, y_train) \n",
        "predicted_rf_rs = rf_rs.predict(x_test) \n",
        "residual = y_test - predicted_rf_rs"
      ]
    },
    {
      "cell_type": "code",
      "execution_count": null,
      "metadata": {
        "id": "S-oRmJjYRZ4O",
        "colab": {
          "base_uri": "https://localhost:8080/"
        },
        "outputId": "fe5b5f1e-6c3c-4402-9bf7-211dce646ce2"
      },
      "outputs": [
        {
          "output_type": "stream",
          "name": "stdout",
          "text": [
            "RMSE:419.28\n",
            "RMSE on test data: 0.902\n",
            "RMSE on train data: 0.97\n"
          ]
        }
      ],
      "source": [
        "rmse5 = np.sqrt(mean_squared_error(y_test, predicted_rf_rs))\n",
        "print('RMSE:{}'.format(np.round(rmse5,2)))\n",
        "print('RMSE on test data: %.3f' % r2_score(y_test,predicted_rf_rs))\n",
        "print('RMSE on train data: %.2f' % mod.score(x_train,y_train))"
      ]
    },
    {
      "cell_type": "code",
      "execution_count": null,
      "metadata": {
        "colab": {
          "base_uri": "https://localhost:8080/"
        },
        "outputId": "205f1e86-3854-49ba-cc44-eddd091dfcfa",
        "id": "oNzzjyueax1f"
      },
      "outputs": [
        {
          "output_type": "stream",
          "name": "stdout",
          "text": [
            "92.24255206230785\n"
          ]
        }
      ],
      "source": [
        "def mean_absolute_percentage_error(y_test, predicted_rf_rs): \n",
        "  y_true, y_pred = np.array(y_test), np.array(predicted_rf_rs) \n",
        "  return np.mean(np.abs((y_test - predicted_rf_rs) / y_test)) * 100 \n",
        "print (100 - mean_absolute_percentage_error(y_test, predicted_rf_rs))"
      ]
    },
    {
      "cell_type": "code",
      "execution_count": null,
      "metadata": {
        "id": "6GG-nu8FAFrE",
        "colab": {
          "base_uri": "https://localhost:8080/"
        },
        "outputId": "f5f4c52f-538a-48d3-d84d-11a6ebce7d37"
      },
      "outputs": [
        {
          "output_type": "stream",
          "name": "stdout",
          "text": [
            "Sorted Feature Importance:\n",
            "[(68.40713211387883, 'Match'), (9.923890342431383, 'Placement'), (8.88441598753758, 'Moving_distance'), (2.8269745066272316, 'Heal'), (2.820091943286701, 'Damage'), (2.690336795185735, 'Drive_distance'), (0.7073479228453335, 'Team'), (0.7006816946488765, 'Name'), (0.6907213298122258, 'In_Damage'), (0.6296258068891788, 'Region '), (0.3371817441227784, 'Assist'), (0.33118165647102354, 'Max_elim_range'), (0.3192529471961495, 'Elims'), (0.2843690549827764, 'Week'), (0.20404053412144044, 'Day'), (0.10177302998231119, 'Headshot'), (0.05681465583475554, 'Death'), (0.055607566605039516, 'WWCD'), (0.028560367540658927, 'Air_drop')]\n"
          ]
        }
      ],
      "source": [
        "importances = rf_rs.feature_importances_\n",
        "#Sort it\n",
        "print (\"Sorted Feature Importance:\")\n",
        "sorted_feature_importance = sorted(zip(importances*100,\n",
        "list(x_train)), reverse=True)\n",
        "print (sorted_feature_importance)"
      ]
    },
    {
      "cell_type": "code",
      "execution_count": null,
      "metadata": {
        "id": "Wy6SDU7J_p04"
      },
      "outputs": [],
      "source": [
        "df_new = pd.DataFrame(list(sorted_feature_importance),columns =['Importance %', 'Variabel'])"
      ]
    },
    {
      "cell_type": "code",
      "execution_count": null,
      "metadata": {
        "colab": {
          "base_uri": "https://localhost:8080/",
          "height": 645
        },
        "id": "b61qRp36BjzD",
        "outputId": "d1c91072-9f44-411d-acbd-84710dff4340"
      },
      "outputs": [
        {
          "output_type": "execute_result",
          "data": {
            "text/plain": [
              "    Importance %         Variabel\n",
              "0           68.4            Match\n",
              "1            9.9        Placement\n",
              "2            8.9  Moving_distance\n",
              "3            2.8             Heal\n",
              "4            2.8           Damage\n",
              "5            2.7   Drive_distance\n",
              "6            0.7             Team\n",
              "7            0.7             Name\n",
              "8            0.7        In_Damage\n",
              "9            0.6          Region \n",
              "10           0.3           Assist\n",
              "11           0.3   Max_elim_range\n",
              "12           0.3            Elims\n",
              "13           0.3             Week\n",
              "14           0.2              Day\n",
              "15           0.1         Headshot\n",
              "16           0.1            Death\n",
              "17           0.1             WWCD\n",
              "18           0.0         Air_drop"
            ],
            "text/html": [
              "\n",
              "  <div id=\"df-241c8908-8dc9-41e9-889c-4140a8c67911\">\n",
              "    <div class=\"colab-df-container\">\n",
              "      <div>\n",
              "<style scoped>\n",
              "    .dataframe tbody tr th:only-of-type {\n",
              "        vertical-align: middle;\n",
              "    }\n",
              "\n",
              "    .dataframe tbody tr th {\n",
              "        vertical-align: top;\n",
              "    }\n",
              "\n",
              "    .dataframe thead th {\n",
              "        text-align: right;\n",
              "    }\n",
              "</style>\n",
              "<table border=\"1\" class=\"dataframe\">\n",
              "  <thead>\n",
              "    <tr style=\"text-align: right;\">\n",
              "      <th></th>\n",
              "      <th>Importance %</th>\n",
              "      <th>Variabel</th>\n",
              "    </tr>\n",
              "  </thead>\n",
              "  <tbody>\n",
              "    <tr>\n",
              "      <th>0</th>\n",
              "      <td>68.4</td>\n",
              "      <td>Match</td>\n",
              "    </tr>\n",
              "    <tr>\n",
              "      <th>1</th>\n",
              "      <td>9.9</td>\n",
              "      <td>Placement</td>\n",
              "    </tr>\n",
              "    <tr>\n",
              "      <th>2</th>\n",
              "      <td>8.9</td>\n",
              "      <td>Moving_distance</td>\n",
              "    </tr>\n",
              "    <tr>\n",
              "      <th>3</th>\n",
              "      <td>2.8</td>\n",
              "      <td>Heal</td>\n",
              "    </tr>\n",
              "    <tr>\n",
              "      <th>4</th>\n",
              "      <td>2.8</td>\n",
              "      <td>Damage</td>\n",
              "    </tr>\n",
              "    <tr>\n",
              "      <th>5</th>\n",
              "      <td>2.7</td>\n",
              "      <td>Drive_distance</td>\n",
              "    </tr>\n",
              "    <tr>\n",
              "      <th>6</th>\n",
              "      <td>0.7</td>\n",
              "      <td>Team</td>\n",
              "    </tr>\n",
              "    <tr>\n",
              "      <th>7</th>\n",
              "      <td>0.7</td>\n",
              "      <td>Name</td>\n",
              "    </tr>\n",
              "    <tr>\n",
              "      <th>8</th>\n",
              "      <td>0.7</td>\n",
              "      <td>In_Damage</td>\n",
              "    </tr>\n",
              "    <tr>\n",
              "      <th>9</th>\n",
              "      <td>0.6</td>\n",
              "      <td>Region</td>\n",
              "    </tr>\n",
              "    <tr>\n",
              "      <th>10</th>\n",
              "      <td>0.3</td>\n",
              "      <td>Assist</td>\n",
              "    </tr>\n",
              "    <tr>\n",
              "      <th>11</th>\n",
              "      <td>0.3</td>\n",
              "      <td>Max_elim_range</td>\n",
              "    </tr>\n",
              "    <tr>\n",
              "      <th>12</th>\n",
              "      <td>0.3</td>\n",
              "      <td>Elims</td>\n",
              "    </tr>\n",
              "    <tr>\n",
              "      <th>13</th>\n",
              "      <td>0.3</td>\n",
              "      <td>Week</td>\n",
              "    </tr>\n",
              "    <tr>\n",
              "      <th>14</th>\n",
              "      <td>0.2</td>\n",
              "      <td>Day</td>\n",
              "    </tr>\n",
              "    <tr>\n",
              "      <th>15</th>\n",
              "      <td>0.1</td>\n",
              "      <td>Headshot</td>\n",
              "    </tr>\n",
              "    <tr>\n",
              "      <th>16</th>\n",
              "      <td>0.1</td>\n",
              "      <td>Death</td>\n",
              "    </tr>\n",
              "    <tr>\n",
              "      <th>17</th>\n",
              "      <td>0.1</td>\n",
              "      <td>WWCD</td>\n",
              "    </tr>\n",
              "    <tr>\n",
              "      <th>18</th>\n",
              "      <td>0.0</td>\n",
              "      <td>Air_drop</td>\n",
              "    </tr>\n",
              "  </tbody>\n",
              "</table>\n",
              "</div>\n",
              "      <button class=\"colab-df-convert\" onclick=\"convertToInteractive('df-241c8908-8dc9-41e9-889c-4140a8c67911')\"\n",
              "              title=\"Convert this dataframe to an interactive table.\"\n",
              "              style=\"display:none;\">\n",
              "        \n",
              "  <svg xmlns=\"http://www.w3.org/2000/svg\" height=\"24px\"viewBox=\"0 0 24 24\"\n",
              "       width=\"24px\">\n",
              "    <path d=\"M0 0h24v24H0V0z\" fill=\"none\"/>\n",
              "    <path d=\"M18.56 5.44l.94 2.06.94-2.06 2.06-.94-2.06-.94-.94-2.06-.94 2.06-2.06.94zm-11 1L8.5 8.5l.94-2.06 2.06-.94-2.06-.94L8.5 2.5l-.94 2.06-2.06.94zm10 10l.94 2.06.94-2.06 2.06-.94-2.06-.94-.94-2.06-.94 2.06-2.06.94z\"/><path d=\"M17.41 7.96l-1.37-1.37c-.4-.4-.92-.59-1.43-.59-.52 0-1.04.2-1.43.59L10.3 9.45l-7.72 7.72c-.78.78-.78 2.05 0 2.83L4 21.41c.39.39.9.59 1.41.59.51 0 1.02-.2 1.41-.59l7.78-7.78 2.81-2.81c.8-.78.8-2.07 0-2.86zM5.41 20L4 18.59l7.72-7.72 1.47 1.35L5.41 20z\"/>\n",
              "  </svg>\n",
              "      </button>\n",
              "      \n",
              "  <style>\n",
              "    .colab-df-container {\n",
              "      display:flex;\n",
              "      flex-wrap:wrap;\n",
              "      gap: 12px;\n",
              "    }\n",
              "\n",
              "    .colab-df-convert {\n",
              "      background-color: #E8F0FE;\n",
              "      border: none;\n",
              "      border-radius: 50%;\n",
              "      cursor: pointer;\n",
              "      display: none;\n",
              "      fill: #1967D2;\n",
              "      height: 32px;\n",
              "      padding: 0 0 0 0;\n",
              "      width: 32px;\n",
              "    }\n",
              "\n",
              "    .colab-df-convert:hover {\n",
              "      background-color: #E2EBFA;\n",
              "      box-shadow: 0px 1px 2px rgba(60, 64, 67, 0.3), 0px 1px 3px 1px rgba(60, 64, 67, 0.15);\n",
              "      fill: #174EA6;\n",
              "    }\n",
              "\n",
              "    [theme=dark] .colab-df-convert {\n",
              "      background-color: #3B4455;\n",
              "      fill: #D2E3FC;\n",
              "    }\n",
              "\n",
              "    [theme=dark] .colab-df-convert:hover {\n",
              "      background-color: #434B5C;\n",
              "      box-shadow: 0px 1px 3px 1px rgba(0, 0, 0, 0.15);\n",
              "      filter: drop-shadow(0px 1px 2px rgba(0, 0, 0, 0.3));\n",
              "      fill: #FFFFFF;\n",
              "    }\n",
              "  </style>\n",
              "\n",
              "      <script>\n",
              "        const buttonEl =\n",
              "          document.querySelector('#df-241c8908-8dc9-41e9-889c-4140a8c67911 button.colab-df-convert');\n",
              "        buttonEl.style.display =\n",
              "          google.colab.kernel.accessAllowed ? 'block' : 'none';\n",
              "\n",
              "        async function convertToInteractive(key) {\n",
              "          const element = document.querySelector('#df-241c8908-8dc9-41e9-889c-4140a8c67911');\n",
              "          const dataTable =\n",
              "            await google.colab.kernel.invokeFunction('convertToInteractive',\n",
              "                                                     [key], {});\n",
              "          if (!dataTable) return;\n",
              "\n",
              "          const docLinkHtml = 'Like what you see? Visit the ' +\n",
              "            '<a target=\"_blank\" href=https://colab.research.google.com/notebooks/data_table.ipynb>data table notebook</a>'\n",
              "            + ' to learn more about interactive tables.';\n",
              "          element.innerHTML = '';\n",
              "          dataTable['output_type'] = 'display_data';\n",
              "          await google.colab.output.renderOutput(dataTable, element);\n",
              "          const docLink = document.createElement('div');\n",
              "          docLink.innerHTML = docLinkHtml;\n",
              "          element.appendChild(docLink);\n",
              "        }\n",
              "      </script>\n",
              "    </div>\n",
              "  </div>\n",
              "  "
            ]
          },
          "metadata": {},
          "execution_count": 63
        }
      ],
      "source": [
        "df_new = np.round(df_new,1)\n",
        "df_new"
      ]
    },
    {
      "cell_type": "code",
      "execution_count": null,
      "metadata": {
        "colab": {
          "base_uri": "https://localhost:8080/",
          "height": 279
        },
        "id": "MrPRworDBrfb",
        "outputId": "c242d469-c731-48a3-e18b-c135bfc41456"
      },
      "outputs": [
        {
          "output_type": "display_data",
          "data": {
            "text/plain": [
              "<Figure size 432x288 with 1 Axes>"
            ],
            "image/png": "[encoded data removed]"
          },
          "metadata": {
            "needs_background": "light"
          }
        }
      ],
      "source": [
        "ax = sns.barplot(x=\"Importance %\", y=\"Variabel\", data=df_new)\n",
        "sns.color_palette(\"flare\")\n",
        "                 \n",
        "plt.show()"
      ]
    },
    {
      "cell_type": "code",
      "execution_count": null,
      "metadata": {
        "id": "5K0ZtMlvFM0l"
      },
      "outputs": [],
      "source": [
        "import pickle\n",
        "# Saving model pickle\n",
        "pickle.dump(rf_rs, open('model.pkl','wb'))"
      ]
    }
  ],
  "metadata": {
    "accelerator": "GPU",
    "colab": {
      "provenance": []
    },
    "gpuClass": "standard",
    "kernelspec": {
      "display_name": "Python 3",
      "name": "python3"
    },
    "language_info": {
      "name": "python"
    }
  },
  "nbformat": 4,
  "nbformat_minor": 0
}